{
  "nbformat": 4,
  "nbformat_minor": 0,
  "metadata": {
    "colab": {
      "provenance": [],
      "include_colab_link": true
    },
    "kernelspec": {
      "name": "python3",
      "display_name": "Python 3"
    },
    "language_info": {
      "name": "python"
    }
  },
  "cells": [
    {
      "cell_type": "markdown",
      "metadata": {
        "id": "view-in-github",
        "colab_type": "text"
      },
      "source": [
        "<a href=\"https://colab.research.google.com/github/rajanky/training-102-daily-diary/blob/main/Day1.ipynb\" target=\"_parent\"><img src=\"https://colab.research.google.com/assets/colab-badge.svg\" alt=\"Open In Colab\"/></a>"
      ]
    },
    {
      "cell_type": "markdown",
      "source": [
        "*Day 1 of Training at Ansh Info Tech*\n",
        "\n",
        "**Topics Covered**\n",
        "\n",
        "\n",
        "*   Introduction to Python in AI\n",
        "*   Introduction to Google Colab\n",
        "*   Variables in Python\n",
        "*   Data Types in Python\n",
        "*   Operators in Python - Arithmetic, Relational etc.\n",
        "*   10+ Practice Questions at the bottom of the file"
      ],
      "metadata": {
        "id": "XgN4Co3wXI-9"
      }
    },
    {
      "cell_type": "code",
      "source": [
        "print(\"Hello World!\")"
      ],
      "metadata": {
        "colab": {
          "base_uri": "https://localhost:8080/"
        },
        "id": "nhkHQ1JSyq7A",
        "outputId": "05328ee3-c9fe-4463-d704-a185bb73db60"
      },
      "execution_count": null,
      "outputs": [
        {
          "output_type": "stream",
          "name": "stdout",
          "text": [
            "Hello World!\n"
          ]
        }
      ]
    },
    {
      "cell_type": "code",
      "source": [
        "a = 10\n",
        "b = 5\n",
        "\n",
        "# Addition\n",
        "print(\"Addition:\", a + b)\n",
        "\n",
        "# Subtraction\n",
        "print(\"Subtraction:\", a - b)\n",
        "\n",
        "# Multiplication\n",
        "print(\"Multiplication:\", a * b)\n",
        "\n",
        "# Division\n",
        "print(\"Division:\", a / b)\n",
        "\n",
        "#Floor Division\n",
        "print(\"Floor Division:\", a//b)\n",
        "\n",
        "#Modulo\n",
        "print(\"Modulo:\", a%b)\n",
        "\n",
        "#Exponential\n",
        "print(\"Exponential:\", a**b)\n"
      ],
      "metadata": {
        "colab": {
          "base_uri": "https://localhost:8080/"
        },
        "id": "Whv_dREsy1kA",
        "outputId": "6c527639-17c8-43cd-e808-457d60979b9c"
      },
      "execution_count": null,
      "outputs": [
        {
          "output_type": "stream",
          "name": "stdout",
          "text": [
            "Addition: 15\n",
            "Subtraction: 5\n",
            "Multiplication: 50\n",
            "Division: 2.0\n",
            "Floor Division: 2\n",
            "Modulo: 0\n",
            "Exponential: 100000\n"
          ]
        }
      ]
    },
    {
      "cell_type": "code",
      "source": [
        "win_points = 3\n",
        "draw_points = 1\n",
        "lost_points = 0\n",
        "\n",
        "total_points = (6 * win_points) + (1 * draw_points) + (2 * lost_points)\n",
        "\n",
        "print(\"Total points scored:\", total_points)"
      ],
      "metadata": {
        "colab": {
          "base_uri": "https://localhost:8080/"
        },
        "id": "MeUb6DB-2zQQ",
        "outputId": "0d07e201-f546-46c9-bc20-2b741cfeffa2"
      },
      "execution_count": null,
      "outputs": [
        {
          "output_type": "stream",
          "name": "stdout",
          "text": [
            "Total points scored: 19\n"
          ]
        }
      ]
    },
    {
      "cell_type": "code",
      "source": [
        "r = 50\n",
        "a = 60\n",
        "ap = 20\n",
        "total = r + a + ap\n",
        "print(\"r percentages: \", r/ total * 100)\n",
        "print(\"a percentages: \", a/ total * 100)\n",
        "print(\"ap percentages: \", ap/ total * 100)\n",
        "print(total)\n",
        "if(r == a):\n",
        "  print(\"true\")\n",
        "else:\n",
        "  print(\"false\")\n"
      ],
      "metadata": {
        "id": "ANe4Gz1B4Mnz",
        "colab": {
          "base_uri": "https://localhost:8080/"
        },
        "outputId": "4db2bee5-845e-421e-8d84-c9557e17cf54"
      },
      "execution_count": null,
      "outputs": [
        {
          "output_type": "stream",
          "name": "stdout",
          "text": [
            "r percentages:  38.46153846153847\n",
            "a percentages:  46.15384615384615\n",
            "ap percentages:  15.384615384615385\n",
            "130\n",
            "false\n"
          ]
        }
      ]
    },
    {
      "cell_type": "markdown",
      "source": [
        "You're creating a program to manage a zoo's animal population. Declare a variable lion_population with an initial value of 10. The zoo welcomes 5 new lion cubs. Update the lion_population variable and print the total lion population."
      ],
      "metadata": {
        "id": "WYB9xhk_Dmki"
      }
    },
    {
      "cell_type": "code",
      "source": [
        "lion_population = 10\n",
        "lion_population += 5\n",
        "print(\"Total lion population:\", lion_population)"
      ],
      "metadata": {
        "colab": {
          "base_uri": "https://localhost:8080/"
        },
        "id": "1Dg9WhH9C07t",
        "outputId": "9e42a38a-5d42-4a93-944e-d9422dae5d16"
      },
      "execution_count": null,
      "outputs": [
        {
          "output_type": "stream",
          "name": "stdout",
          "text": [
            "Total lion population: 15\n"
          ]
        }
      ]
    },
    {
      "cell_type": "markdown",
      "source": [
        "You're developing a weather monitoring system. Declare a variable temperature with a value of 25.5 degrees Celsius. Due to a sudden heatwave, the temperature increases by 8 degrees. Update and print the new temperature."
      ],
      "metadata": {
        "id": "_al8tsOWDj-n"
      }
    },
    {
      "cell_type": "code",
      "source": [
        "temperature = 25.5\n",
        "temperature += 8\n",
        "print(\"Updated temperature:\", temperature)"
      ],
      "metadata": {
        "colab": {
          "base_uri": "https://localhost:8080/"
        },
        "id": "J_7ndvGpC8ne",
        "outputId": "97305f2f-35a7-4c66-9200-346bf15f464d"
      },
      "execution_count": null,
      "outputs": [
        {
          "output_type": "stream",
          "name": "stdout",
          "text": [
            "Updated temperature: 33.5\n"
          ]
        }
      ]
    },
    {
      "cell_type": "markdown",
      "source": [
        "A science experiment involves tracking the growth of a plant. Declare a variable plant_height with an initial value of 15 centimeters. Over a week, the plant grows 2.5 centimeters taller each day. Update and print the final height of the plant after the week."
      ],
      "metadata": {
        "id": "6FZrd17yDawB"
      }
    },
    {
      "cell_type": "code",
      "source": [
        "plant_height = 15\n",
        "growth_per_day = 2.5\n",
        "num_days = 7\n",
        "\n",
        "final_height = plant_height + (growth_per_day * num_days)\n",
        "\n",
        "print(\"Final height of the plant after a week:\", final_height, \"centimeters\")\n"
      ],
      "metadata": {
        "colab": {
          "base_uri": "https://localhost:8080/"
        },
        "id": "CPc3iT8kDELc",
        "outputId": "16cd873a-7994-4bbd-fefa-f29a7e3d5661"
      },
      "execution_count": null,
      "outputs": [
        {
          "output_type": "stream",
          "name": "stdout",
          "text": [
            "Final height of the plant after a week: 32.5 centimeters\n"
          ]
        }
      ]
    },
    {
      "cell_type": "markdown",
      "source": [
        "You're designing a space mission trajectory. Declare variables initial_velocity and acceleration with values 3000 meters per second and 500 meters per second squared respectively. Calculate and print the final velocity after 10 seconds"
      ],
      "metadata": {
        "id": "QnpgjRrdDWF4"
      }
    },
    {
      "cell_type": "code",
      "source": [
        "initial_velocity = 3000\n",
        "acceleration = 500\n",
        "time = 10\n",
        "\n",
        "final_velocity = initial_velocity + (acceleration * time)\n",
        "\n",
        "print(\"Final velocity after 10 seconds:\", final_velocity, \"meters per second\")\n"
      ],
      "metadata": {
        "colab": {
          "base_uri": "https://localhost:8080/"
        },
        "id": "MSWCCrQ9DRf0",
        "outputId": "8bf90fef-3455-4f0d-870f-627b7cb36adc"
      },
      "execution_count": null,
      "outputs": [
        {
          "output_type": "stream",
          "name": "stdout",
          "text": [
            "Final velocity after 10 seconds: 8000 meters per second\n"
          ]
        }
      ]
    },
    {
      "cell_type": "markdown",
      "source": [
        "A group of friends is sharing a pizza. Declare a variable pizza_slices with a value of 8. Each friend wants to have an equal number of slices, and there are 5 friends. Calculate and print the maximum number of slices each friend can have without cutting the pizza."
      ],
      "metadata": {
        "id": "eeFqtvjVDngJ"
      }
    },
    {
      "cell_type": "code",
      "source": [
        "pizza_slices = 8\n",
        "num_friends = 5\n",
        "\n",
        "max_slices_per_friend = pizza_slices // num_friends\n",
        "\n",
        "print(\"Maximum number of slices each friend can have:\", max_slices_per_friend)\n"
      ],
      "metadata": {
        "colab": {
          "base_uri": "https://localhost:8080/"
        },
        "id": "iwrPiWMkDp_j",
        "outputId": "24d95c41-b7ea-4e84-d8d6-e0fd2f1a683e"
      },
      "execution_count": null,
      "outputs": [
        {
          "output_type": "stream",
          "name": "stdout",
          "text": [
            "Maximum number of slices each friend can have: 1\n"
          ]
        }
      ]
    },
    {
      "cell_type": "markdown",
      "source": [
        "You're modeling the movement of a pendulum. Declare a variable pendulum_length with a value of 1.2 meters. Calculate and print the period of oscillation (time taken for one complete swing) using the formula \\( T = 2\\pi \\sqrt{\\frac{L}{g}} \\), where \\( \\pi \\) is pi (approximately 3.14159) and \\( g \\) is the acceleration due to gravity (approximately \\( 9.81 \\) meters per second squared)."
      ],
      "metadata": {
        "id": "7Ls03XIVD1hz"
      }
    },
    {
      "cell_type": "code",
      "source": [
        "import math\n",
        "\n",
        "pendulum_length = 1.2\n",
        "gravity = 9.81\n",
        "pie = 3.14159\n",
        "period = 2 * math.pi * math.sqrt(pendulum_length / gravity)\n",
        "# period = 2 * pie * (pendulum_length/gravity)**0.5\n",
        "\n",
        "print(\"Period of oscillation:\", period, \"seconds\")\n"
      ],
      "metadata": {
        "colab": {
          "base_uri": "https://localhost:8080/"
        },
        "id": "nwmzvQbbDw67",
        "outputId": "045e1669-60e8-4c8e-cd83-604765bbb81e"
      },
      "execution_count": null,
      "outputs": [
        {
          "output_type": "stream",
          "name": "stdout",
          "text": [
            "Period of oscillation: 2.1975359457694705 seconds\n"
          ]
        }
      ]
    },
    {
      "cell_type": "markdown",
      "source": [
        "A software company is tracking the number of bugs in their codebase. Declare a variable bug_count with an initial value of 100. After a round of debugging, 35 bugs are fixed. Update and print the new bug_count."
      ],
      "metadata": {
        "id": "oRPU2snWEJ0x"
      }
    },
    {
      "cell_type": "code",
      "source": [
        "bug_count = 100\n",
        "fixed_bugs = 35\n",
        "\n",
        "bug_count -= fixed_bugs\n",
        "\n",
        "print(\"New bug count:\", bug_count)\n"
      ],
      "metadata": {
        "colab": {
          "base_uri": "https://localhost:8080/"
        },
        "id": "2shi9GKVED6T",
        "outputId": "1c77425d-0665-4496-bd80-79bde3a459c6"
      },
      "execution_count": null,
      "outputs": [
        {
          "output_type": "stream",
          "name": "stdout",
          "text": [
            "New bug count: 65\n"
          ]
        }
      ]
    },
    {
      "cell_type": "markdown",
      "source": [
        "You're building a game where players collect gems. Declare a variable gem_count with an initial value of 50. Each time a player finds a gem, 5 gems are added to their collection. Update and print the new gem_count"
      ],
      "metadata": {
        "id": "08otnSP5EMxj"
      }
    },
    {
      "cell_type": "code",
      "source": [
        "gem_count = 50\n",
        "gems_collected = 5\n",
        "\n",
        "gem_count += gems_collected\n",
        "\n",
        "print(\"New gem count:\", gem_count)\n"
      ],
      "metadata": {
        "colab": {
          "base_uri": "https://localhost:8080/"
        },
        "id": "vArwnfyDEI4Z",
        "outputId": "8bbe0273-473f-4927-f768-3eb7ecaa5332"
      },
      "execution_count": null,
      "outputs": [
        {
          "output_type": "stream",
          "name": "stdout",
          "text": [
            "New gem count: 55\n"
          ]
        }
      ]
    },
    {
      "cell_type": "markdown",
      "source": [
        "A fitness tracker is monitoring a user's heart rate variability (HRV). Declare a variable hrv_index with an initial value of 80. After a relaxation session, the user's HRV improves by 10 points. Update and print the new hrv_index."
      ],
      "metadata": {
        "id": "mZHLkfJLEey8"
      }
    },
    {
      "cell_type": "code",
      "source": [
        "hrv_index = 80\n",
        "hrv_improvement = 10\n",
        "\n",
        "hrv_index += hrv_improvement\n",
        "\n",
        "print(\"New HRV index:\", hrv_index)\n"
      ],
      "metadata": {
        "colab": {
          "base_uri": "https://localhost:8080/"
        },
        "id": "csoXieGpEZwe",
        "outputId": "ec08efbc-c827-4735-f8bd-e38c96011089"
      },
      "execution_count": null,
      "outputs": [
        {
          "output_type": "stream",
          "name": "stdout",
          "text": [
            "New HRV index: 90\n"
          ]
        }
      ]
    },
    {
      "cell_type": "markdown",
      "source": [
        "You're simulating the growth of a bacterial colony. Declare a variable bacteria_count with an initial value of 5000. Over a day, the colony doubles in size every 4 hours. Update and print the new bacteria_count."
      ],
      "metadata": {
        "id": "DlYgrU-mEqI-"
      }
    },
    {
      "cell_type": "code",
      "source": [
        "bacteria_count = 5000\n",
        "doubling_time = 4\n",
        "\n",
        "num_doublings = 24 / doubling_time\n",
        "\n",
        "new_bacteria_count = bacteria_count * 2**num_doublings\n",
        "\n",
        "print(\"New bacteria count:\", new_bacteria_count)\n"
      ],
      "metadata": {
        "colab": {
          "base_uri": "https://localhost:8080/"
        },
        "id": "zrS2DpiPEnWo",
        "outputId": "fcf67710-44ca-4027-be98-f8d24430c786"
      },
      "execution_count": null,
      "outputs": [
        {
          "output_type": "stream",
          "name": "stdout",
          "text": [
            "New bacteria count: 320000.0\n"
          ]
        }
      ]
    },
    {
      "cell_type": "code",
      "source": [],
      "metadata": {
        "id": "_JqpVpbJEu7K"
      },
      "execution_count": null,
      "outputs": []
    }
  ]
}
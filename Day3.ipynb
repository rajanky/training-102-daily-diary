{
  "nbformat": 4,
  "nbformat_minor": 0,
  "metadata": {
    "colab": {
      "provenance": [],
      "include_colab_link": true
    },
    "kernelspec": {
      "name": "python3",
      "display_name": "Python 3"
    },
    "language_info": {
      "name": "python"
    }
  },
  "cells": [
    {
      "cell_type": "markdown",
      "metadata": {
        "id": "view-in-github",
        "colab_type": "text"
      },
      "source": [
        "<a href=\"https://colab.research.google.com/github/rajanky/training-102-daily-diary/blob/main/Day3.ipynb\" target=\"_parent\"><img src=\"https://colab.research.google.com/assets/colab-badge.svg\" alt=\"Open In Colab\"/></a>"
      ]
    },
    {
      "cell_type": "markdown",
      "source": [
        "# **Day 3 of Training at Ansh Info Tech**\n",
        "\n",
        "***Topics Covered***\n",
        "\n",
        "# Sets in Python\n",
        "*   Basic Set Operations\n",
        "*   Set Methods\n",
        "*   Immutability and Sets\n",
        "*   Frozen Sets\n",
        "*   Set Applications\n",
        "*   25 Practice Questions on Sets\n",
        "\n",
        "# Dictionaries in Python\n",
        "*   Basic Dictionary Operations\n",
        "*   Dictionary Iteration\n",
        "*   Dictionary Functions\n",
        "*   Dictionary Methods\n",
        "*   30 Practice Questions on Dictionaries\n"
      ],
      "metadata": {
        "id": "Rj6e0YdAQY9x"
      }
    },
    {
      "cell_type": "markdown",
      "source": [
        "\n",
        "set -> consist of unique elements only like maths\n",
        "{} <- used for definition\n",
        "set() -> set constructor for set creation\n",
        "\n",
        "frozenset-> immutable and new elements cannot be added after definition\n",
        "frozenset() -> constructor for frozen set creation\n",
        "\n",
        "Set Operations :-\n",
        "\n",
        "* A.union(B) or A|B\n",
        "* A.intersection(B)\n",
        "* A.difference(B)\n",
        "* A.symmetric_difference(B) or A^B\n",
        "* A.issuperset(B) or >=\n",
        "* A.issubset(B) or <=\n",
        "* for proper subset we use <\n",
        "* A.isdisjoint(B)\n",
        "* set() -> returns an empty set\n",
        "\n",
        "With single elements:\n",
        "* in #Membership Check\n",
        "* .add(-) #Add an Element to Set\n",
        "* .discard(-) #Remove Element if present\n",
        "* .remove(-) #Remove Element if present otherwise error\n",
        "* .update(s1) #Add elements of the argument set to the set\n",
        "\n",
        "Other Operations:\n",
        "\n",
        "* s|=t\n",
        "* s&=t\n",
        "* s-=t\n",
        "\n",
        "l1 = list(set(l1)) # Remove Duplicates from the list\n",
        "\n",
        "{{1,2}, {3,4}} #Nesting of Sets gives an error\n",
        "for nesting of sets we use frozenset() in the inner sets\n",
        "\n",
        "where A and B are sets\n",
        "\n",
        "Dictionary-> Use key Value pair for accss\n",
        "\n",
        "Every key must be unique, hashable\n",
        "\n",
        "access using key print(dict1['name'])\n",
        "\n",
        "dict()-> empty dictionary constructor\n",
        "\n",
        "d = dict(key = 'value') #Explicit specify\n",
        "\n",
        "d = dict([('key', 'value')]) # passing in a list of key/value pairs\n",
        "\n",
        "di = dict(Name = 'Diksha')\n",
        "\n",
        "Modify a Dict ->\n",
        "d['House_No'] = 42\n",
        "\n",
        "Dictionary Methods\n",
        "\n",
        "* .get(key) -> get value for the argument key\n",
        "* .clear() -> clear all elements of the dictionary\n",
        "* .items() -> gives a list of tuples, where each tuple contains a key-value pair\n",
        "* .keys() -> gives list of keys\n",
        "* .values() -> gives list of values\n",
        "* .update(d2) -> adds new key-values to dictionary or modifies values of existing keys\n",
        "* .pop(key) -> Removes a key-value based on key\n",
        "* .popitem(key) -> Removes random key-value pair from the dictionary\n",
        "\n",
        "\n",
        "\n"
      ],
      "metadata": {
        "id": "Vpxg-XDiAL2n"
      }
    },
    {
      "cell_type": "code",
      "execution_count": null,
      "metadata": {
        "colab": {
          "base_uri": "https://localhost:8080/"
        },
        "id": "HOQR8X4A7-AI",
        "outputId": "5c5ac579-f010-48b2-ac94-840abfa5fe21"
      },
      "outputs": [
        {
          "output_type": "stream",
          "name": "stdout",
          "text": [
            "Checking Union\n",
            "{1, 2, 3, 4, 5, 6, 7, 8}\n",
            "{1, 2, 3, 4, 5, 6, 7, 8}\n",
            "Checking Intersection\n",
            "{4, 5}\n",
            "{4, 5}\n",
            "Checking Difference\n",
            "{1, 2, 3}\n",
            "{1, 2, 3}\n",
            "Checking Symmetric Difference\n",
            "{1, 2, 3, 6, 7, 8}\n",
            "{1, 2, 3, 6, 7, 8}\n",
            "Checking Superset\n",
            "False\n",
            "False\n",
            "True\n",
            "True\n",
            "Checking Subset\n",
            "False\n",
            "False\n",
            "True\n",
            "True\n",
            "Checking Disjoint\n",
            "False\n",
            "False\n",
            "False\n",
            "Checking Empty Set\n",
            "frozenset({1, 2, 3, 4, 5})\n",
            "set()\n"
          ]
        }
      ],
      "source": [
        "A = {1,2,3,4,5}\n",
        "B = {4,5,6,7,8}\n",
        "print(\"Checking Union\")\n",
        "print(A.union(B))\n",
        "print(A|B)\n",
        "print(\"Checking Intersection\")\n",
        "print(A.intersection(B))\n",
        "print(A&B)\n",
        "print(\"Checking Difference\")\n",
        "print(A.difference(B))\n",
        "print(A-B)\n",
        "print(\"Checking Symmetric Difference\")\n",
        "print(A.symmetric_difference(B))\n",
        "print(A^B)\n",
        "print(\"Checking Superset\")\n",
        "print(A.issuperset(B))\n",
        "print(A>=B)\n",
        "print(A.issuperset({1,2,3}))\n",
        "print(A>= {1,2,3})\n",
        "print(\"Checking Subset\")\n",
        "print(A.issubset(B))\n",
        "print(A<=B)\n",
        "print(A.issubset({1,2,3,4,5,6,7}))\n",
        "print(A<= {1,2,3,4,5,6,7})\n",
        "print(\"Checking Disjoint\")\n",
        "print(A.isdisjoint(B))\n",
        "print(A.isdisjoint({1,2,3,4,5,6}))\n",
        "print(B.isdisjoint({1,2,3,4,5,6}))\n",
        "print(\"Checking Empty Set\")\n",
        "C = frozenset({1,2,3,4,5})\n",
        "print(C)\n",
        "D = set()\n",
        "print(D)"
      ]
    },
    {
      "cell_type": "markdown",
      "source": [
        "1. Create a list of integers from 1 to 5.\n",
        "2. Append the number 6 to the list.\n",
        "3. Extend the list with another list: [7, 8, 9].\n",
        "4. Access and print the third element of the list.\n",
        "5. Slice the list to get elements from index 2 to 4.\n",
        "6. Reverse the list.\n",
        "7. Remove the element 7 from the list.\n",
        "8. Check if the element 5 is present in the list.\n",
        "9. Find the index of the element 8 in the list.\n",
        "10. Create a new list that contains only the even numbers from the original list."
      ],
      "metadata": {
        "id": "D7sqZRJPHgEN"
      }
    },
    {
      "cell_type": "code",
      "source": [
        "li = [1,2,3,4,5]\n",
        "li.append(6)\n",
        "li.extend([7,8,9])\n",
        "print(li[2])\n",
        "print(li[2:5])\n",
        "li.reverse()\n",
        "print(li)\n",
        "li.remove(7)\n",
        "print(li)\n",
        "print(5 in li)\n",
        "print(li.index(8))\n",
        "even_list = [num for num in li if num % 2 == 0]\n",
        "print(even_list)"
      ],
      "metadata": {
        "id": "Fa4ygKXUHgyC"
      },
      "execution_count": null,
      "outputs": []
    },
    {
      "cell_type": "markdown",
      "source": [
        "1. Create a set with the first five prime numbers.\n",
        "2. Add the number 7 to the set.\n",
        "3. Remove the number 3 from the set.\n",
        "4. Check if the set is a subset of {2, 3, 5, 7, 11}.\n",
        "5. Find the union of the set with {7, 11, 13}.\n",
        "6. Create a frozen set from the original set.\n",
        "7. Check if the set has any common elements with {1, 4, 9}.\n",
        "8. Remove all elements from the set.\n",
        "9. Create a set of your favorite fruits and find the intersection with { 'apple', 'banana', 'orange' }.\n",
        "10. Use set comprehension to create a set of squares for numbers 1 to 10."
      ],
      "metadata": {
        "id": "maabYPhqHwa9"
      }
    },
    {
      "cell_type": "code",
      "source": [
        "from re import S\n",
        "s1 = {2,3,5,7,11}\n",
        "s1.add(7)\n",
        "s1.remove(3)\n",
        "print(s1)\n",
        "s1.issubset({2,3,5,7,11})\n",
        "s1.union({7,11,13})\n",
        "s2 = frozenset(s1)\n",
        "print(s2)\n",
        "if(s1.isdisjoint({1,4,9})):\n",
        "    print(\"Set has no Common Elements with {1, 4, 9}\")\n",
        "else:\n",
        "    print(\"Set has Common Elements with {1, 4, 9}\")\n",
        "    print(s1.intersection({1,4,9}))\n",
        "s1.clear()\n",
        "fruits = { 'apple', 'banana', 'mango', 'cherry' }\n",
        "print(fruits.intersection({'apple', 'banana', 'orange'}))\n",
        "squares = set()\n",
        "for i in range(1,11):\n",
        "    squares.add(i**2)\n",
        "print(squares)\n",
        "\n",
        "\n"
      ],
      "metadata": {
        "colab": {
          "base_uri": "https://localhost:8080/"
        },
        "id": "MBF2utO5H05j",
        "outputId": "dadba458-8e2a-4866-b888-c9d20eca9159"
      },
      "execution_count": null,
      "outputs": [
        {
          "output_type": "stream",
          "name": "stdout",
          "text": [
            "{2, 5, 7, 11}\n",
            "frozenset({2, 11, 5, 7})\n",
            "Set has no Common Elements with {1, 4, 9}\n",
            "{'apple', 'banana'}\n",
            "{64, 1, 4, 36, 100, 9, 16, 49, 81, 25}\n"
          ]
        }
      ]
    },
    {
      "cell_type": "code",
      "source": [],
      "metadata": {
        "id": "OQcvxBcQMVR2"
      },
      "execution_count": null,
      "outputs": []
    },
    {
      "cell_type": "markdown",
      "source": [
        "Exercise 2: Tuples\n",
        "1. Create a tuple with three different data types: int, float, and string.\n",
        "2. Access and print the second element of the tuple.\n",
        "3. Concatenate the tuple with another tuple containing three elements.\n",
        "4. Unpack the tuple into three variables: a, b, and c.\n",
        "5. Check if the string \"apple\" is present in the tuple.\n",
        "6. Create a new tuple by repeating the original tuple three times.\n",
        "7. Find the index of the float element in the tuple.\n",
        "8. Convert the tuple to a list.\n",
        "9. Create a tuple of your favorite colors and concatenate it with the original tuple.\n",
        "10. Use a tuple to swap the values of two variables."
      ],
      "metadata": {
        "id": "Z5O9OM57MVmg"
      }
    },
    {
      "cell_type": "code",
      "source": [
        "t1 = (5, 7.5, \"apple\")\n",
        "print(t1[1])\n",
        "t2 = (3, \"Mango\", 6.2)\n",
        "t3 = t1 + t2\n",
        "print(t3)\n",
        "a,b,c = t1\n",
        "print(a)\n",
        "print(b)\n",
        "print(c)\n",
        "for  i in t1:\n",
        "    if(i == \"apple\"):\n",
        "        print(\"apple is present in the tuple\")\n",
        "t4 = t1*3\n",
        "print(t4)\n",
        "t1 = (5, 7.5, \"apple\")\n",
        "for i in t1:\n",
        "    if type(i) == 'float':\n",
        "        print(t1.index(i))\n",
        "l1 = tuple(t1)\n",
        "t5 = ('blue', 'yellow', 'red')\n",
        "t1 = t1 + t5\n",
        "print(t1)\n",
        "#Use of tuple to swap the value of 2 variables\n",
        "a = 10\n",
        "b = 20\n",
        "print(a,b)\n",
        "t1 = (a,b)\n",
        "(b,a) = t1\n",
        "print(a,b)"
      ],
      "metadata": {
        "colab": {
          "base_uri": "https://localhost:8080/"
        },
        "id": "GD3UxH8DMZ0i",
        "outputId": "dea6d861-41ec-4798-e10b-071f11d19ca6"
      },
      "execution_count": null,
      "outputs": [
        {
          "output_type": "stream",
          "name": "stdout",
          "text": [
            "7.5\n",
            "(5, 7.5, 'apple', 3, 'Mango', 6.2)\n",
            "5\n",
            "7.5\n",
            "apple\n",
            "apple is present in the tuple\n",
            "(5, 7.5, 'apple', 5, 7.5, 'apple', 5, 7.5, 'apple')\n",
            "(5, 7.5, 'apple', 'blue', 'yellow', 'red')\n",
            "10 20\n",
            "20 10\n"
          ]
        }
      ]
    },
    {
      "cell_type": "markdown",
      "source": [
        "Other Questions:\n",
        "1. Basic Set Operations:\n",
        "What is a set in Python?\n",
        "Explain the difference between a set and a list in Python.\n",
        "How do you create an empty set in Python?\n",
        "Describe the basic set operations: union, intersection, and difference.\n",
        "2. Set Methods:\n",
        "Name three common methods available for sets in Python.\n",
        "How do you add an element to a set?\n",
        "Explain the purpose of the remove() and discard() methods in sets.\n",
        "3. Set Operations using Operators:\n",
        "What operators are used for set union and intersection in Python?\n",
        "Write code to perform the union of two sets.\n",
        "How do you check if one set is a subset of another set?\n",
        "4. Immutability and Sets:\n",
        "Can you have a set of sets in Python?\n",
        "Explain why sets are mutable but elements of sets must be immutable.\n",
        "Provide an example of an immutable data type that can be used as a set element.\n",
        "5. Frozen Sets:\n",
        " TESTING THE LEARNING SO FAR:\n",
        "What is a frozen set in Python?\n",
        "How does a frozen set differ from a regular set?\n",
        "In what scenarios might you choose to use a frozen set?\n",
        "6. Removing Duplicates using Sets:\n",
        "How can you use a set to remove duplicates from a list?\n",
        "Write a short code snippet to demonstrate removing duplicates from a list using a set.\n",
        "7. Real-world Applications:\n",
        "Provide an example of a real-world scenario where using a set in Python would be beneficial.\n",
        "How could sets be used in data analysis or processing?"
      ],
      "metadata": {
        "id": "7f4tCP8jQZW1"
      }
    },
    {
      "cell_type": "markdown",
      "source": [
        "Real-world Applications:\n",
        "Provide an example of a real-world scenario where using a set in Python would be beneficial.\n",
        "How could sets be used in data analysis or processing?\n"
      ],
      "metadata": {
        "id": "ebw5MemiUdPg"
      }
    },
    {
      "cell_type": "code",
      "source": [
        "# prompt: Real-world Applications:\n",
        "# Provide an example of a real-world scenario where using a set in Python would be beneficial.\n",
        "# How could sets be used in data analysis or processing?\n",
        "\n",
        "# Real-world Applications:\n",
        "\n",
        "# Example of using a set in Python:\n",
        "# A company wants to track the unique customers who have visited their website.\n",
        "# They can use a set to store the customer IDs of all the visitors.\n",
        "# This allows them to easily identify the number of unique visitors and avoid counting the same customer multiple times.\n",
        "\n",
        "customers = set()\n",
        "\n",
        "# Adding customer IDs to the set\n",
        "customers.add(\"customer1\")\n",
        "customers.add(\"customer2\")\n",
        "customers.add(\"customer3\")\n",
        "\n",
        "# Checking if a customer is in the set\n",
        "if \"customer2\" in customers:\n",
        "    print(\"Customer 2 is in the set\")\n",
        "\n",
        "# Getting the number of unique customers\n",
        "num_customers = len(customers)\n",
        "print(\"Number of unique customers:\", num_customers)\n",
        "\n",
        "# Using sets in data analysis or processing:\n",
        "# Sets can be used to perform various data analysis tasks, such as:\n",
        "\n",
        "# Identifying unique elements in a dataset\n",
        "# Removing duplicates from a dataset\n",
        "# Finding the intersection or union of two datasets\n",
        "# Grouping data based on common characteristics\n",
        "\n",
        "# Example of using sets in data analysis:\n",
        "# A data analyst wants to find the unique words in a large text file.\n",
        "# They can use a set to store the unique words and then count the number of unique words in the file.\n",
        "\n",
        "with open(\"text_file.txt\", \"r\") as f:\n",
        "    words = set(f.read().split())\n",
        "\n",
        "# Getting the number of unique words\n",
        "num_words = len(words)\n",
        "print(\"Number of unique words:\", num_words)\n"
      ],
      "metadata": {
        "id": "FYZktRQkUeuT"
      },
      "execution_count": null,
      "outputs": []
    },
    {
      "cell_type": "markdown",
      "source": [
        "#Practice Questions on Sets"
      ],
      "metadata": {
        "id": "lGAHwKWwUzp2"
      }
    },
    {
      "cell_type": "markdown",
      "source": [
        "1. You have two sets representing students enrolled in Math and Science Classes. Find the set of Students who are enrolled in both classes."
      ],
      "metadata": {
        "id": "dSA-8W7bi12G"
      }
    },
    {
      "cell_type": "code",
      "source": [
        "s1 = {'a', 'b', 'c', 'd', 'g'}\n",
        "s2 = {'c', 'd', 'e', 'f', 'g'}\n",
        "s3 = s1.intersection(s2)\n",
        "print(s3)"
      ],
      "metadata": {
        "id": "QC4ncTR0i0Uj"
      },
      "execution_count": null,
      "outputs": []
    },
    {
      "cell_type": "markdown",
      "source": [
        "2. Given a set of unique employee IDs, add a new employee ID to the set."
      ],
      "metadata": {
        "id": "Kl1sfpSHjOrI"
      }
    },
    {
      "cell_type": "code",
      "source": [
        "setID = {'E1', 'E2', 'E3', 'E4', 'E5'}\n",
        "setID.add('E6')\n",
        "print(setID)"
      ],
      "metadata": {
        "id": "gjn1hX8LjUdB"
      },
      "execution_count": null,
      "outputs": []
    },
    {
      "cell_type": "markdown",
      "source": [
        "3. You are managing two different projects and have 2 sets representing team members for each project. Find the set of team members who are working on either project or both projects."
      ],
      "metadata": {
        "id": "5U-t8OHQjgv3"
      }
    },
    {
      "cell_type": "code",
      "source": [
        "t1 = {'a', 'b', 'c', 'd'}\n",
        "t2 = {'c', 'd', 'e', 'f'}\n",
        "t3 = t1.union(t2)\n",
        "print(t3)"
      ],
      "metadata": {
        "id": "3Khs9fo0jukG"
      },
      "execution_count": null,
      "outputs": []
    },
    {
      "cell_type": "markdown",
      "source": [
        "4. You have a set of customer IDs who have made purchases this month. Remove a customer ID from the set who has canceled their order."
      ],
      "metadata": {
        "id": "tEtzzW5Nj2yC"
      }
    },
    {
      "cell_type": "code",
      "source": [
        "setID = {'C1', 'C2', 'C3', 'C4', 'C5'}\n",
        "setID.remove('C3')\n",
        "print(setID)"
      ],
      "metadata": {
        "id": "llsEG1tjj1NW"
      },
      "execution_count": null,
      "outputs": []
    },
    {
      "cell_type": "markdown",
      "source": [
        "5. Given two sets of product IDs, one representing products in stock and the other representing products that have been sold, find the set of products that are still in stock.\n"
      ],
      "metadata": {
        "id": "TPU6n7SikCqd"
      }
    },
    {
      "cell_type": "code",
      "source": [
        "stock = {'P1', 'P2', 'P3', 'P4', 'P5'}\n",
        "sold = {'P1', 'P3', 'P5'}\n",
        "instock = stock.difference(sold)\n",
        "print(instock)\n"
      ],
      "metadata": {
        "id": "yuk6aKdZkFin"
      },
      "execution_count": null,
      "outputs": []
    },
    {
      "cell_type": "markdown",
      "source": [
        "6. You have a set of registered conference attendees. Check if a particular person is registered."
      ],
      "metadata": {
        "id": "CXGbnUGFkbTW"
      }
    },
    {
      "cell_type": "code",
      "source": [
        "setAttendees = {'P1', 'P2', 'P3', 'P4', 'P5'}\n",
        "if 'P3' in setAttendees:\n",
        "  print(\"P3 is a registered Attendee\")\n",
        "else:\n",
        "  print(\"P3 is not a registered Attendee\")\n"
      ],
      "metadata": {
        "id": "zm-p2w1BkeHF"
      },
      "execution_count": null,
      "outputs": []
    },
    {
      "cell_type": "markdown",
      "source": [
        "7. Given two sets of book titles, one representing books available in the library and the other representing books borrowed by students, find the set of books that are not currently available in the library.\n"
      ],
      "metadata": {
        "id": "fzqBOHr0lMpj"
      }
    },
    {
      "cell_type": "code",
      "source": [
        "setAvailable = {'B1', 'B2', 'B3', 'B4', 'B5'}\n",
        "setBorrowed = {'B1', 'B3', 'B5'}\n",
        "setNotAvailable = setBorrowed\n",
        "print(setNotAvailable)"
      ],
      "metadata": {
        "id": "7LLiO5abmZI4"
      },
      "execution_count": null,
      "outputs": []
    },
    {
      "cell_type": "markdown",
      "source": [
        "8. You have a set of unique tags assigned to a blog post. Add multiple new tags to the set at once."
      ],
      "metadata": {
        "id": "NKdJcQm_olzE"
      }
    },
    {
      "cell_type": "code",
      "source": [
        "setTags = {'T1', 'T2', 'T3', 'T4'}\n",
        "setTags.update({'T5', 'T6'})\n",
        "print(setTags)"
      ],
      "metadata": {
        "id": "Flit1FNIopWL"
      },
      "execution_count": null,
      "outputs": []
    },
    {
      "cell_type": "markdown",
      "source": [
        "9. Given a set of employee skills and another set of skills required for a new project, find the set of skills that need to be acquired or improved."
      ],
      "metadata": {
        "id": "yDbPKzSZo-Kd"
      }
    },
    {
      "cell_type": "code",
      "source": [
        "setPresent = {'S1', 'S2', 'S3', 'S4', 'S5'}\n",
        "setRequired = {'S2', 'S4', 'S6'}\n",
        "setMissing = setRequired.difference(setPresent)\n",
        "print(setMissing)"
      ],
      "metadata": {
        "id": "RPsudg7rpC14"
      },
      "execution_count": null,
      "outputs": []
    },
    {
      "cell_type": "markdown",
      "source": [
        "10. You have two sets of favorite movies from two different friends. Find the set of movies that are favorite to at least one of them but not both."
      ],
      "metadata": {
        "id": "JOV-oTmXpRTz"
      }
    },
    {
      "cell_type": "code",
      "source": [
        "setFav1 = {'M1', 'M2', 'M3', 'M4', 'M5'}\n",
        "setFav2 = {'M1', 'M3', 'M5', 'M7', 'M9'}\n",
        "setFav = setFav1.symmetric_difference(setFav2)\n",
        "print(setFav)"
      ],
      "metadata": {
        "id": "aDUugqJspaAf"
      },
      "execution_count": null,
      "outputs": []
    },
    {
      "cell_type": "markdown",
      "source": [
        "11. Given a set of emails collected from a signup form, ensure that the set contains only unique emails by checking the length before and after adding more emails."
      ],
      "metadata": {
        "id": "WeMoWCxVp3yA"
      }
    },
    {
      "cell_type": "code",
      "source": [
        "setEmails = {'E1', 'E2', 'E3', 'E4', 'E5'}\n",
        "print(len(setEmails))\n",
        "setEmails.add('E6')\n",
        "setEmails.add('E4')\n",
        "print(len(setEmails))"
      ],
      "metadata": {
        "colab": {
          "base_uri": "https://localhost:8080/"
        },
        "id": "xTPDZRl3p7YS",
        "outputId": "d3955e6e-2804-43a2-cf48-33bd112be0f1"
      },
      "execution_count": null,
      "outputs": [
        {
          "output_type": "stream",
          "name": "stdout",
          "text": [
            "5\n",
            "6\n"
          ]
        }
      ]
    },
    {
      "cell_type": "markdown",
      "source": [
        "12. You have a set of courses you are interested in and another set of courses you have completed. Find the set of courses you are still interested in but have not yet completed.\n"
      ],
      "metadata": {
        "id": "PthtJcNmqTzw"
      }
    },
    {
      "cell_type": "code",
      "source": [
        "setInterested = {'C1', 'C2', 'C3', 'C4', 'C5'}\n",
        "setCompleted = {'C1', 'C3', 'C5'}\n",
        "setInterested = setInterested.difference(setCompleted)\n",
        "print(setInterested)"
      ],
      "metadata": {
        "id": "v6vl0-WzqidB"
      },
      "execution_count": null,
      "outputs": []
    },
    {
      "cell_type": "markdown",
      "source": [
        "13. Given a set of cities visited last year and another set of cities visited this year, find the set of cities that were visited in either year but not both."
      ],
      "metadata": {
        "id": "5hqbNX-QqphV"
      }
    },
    {
      "cell_type": "code",
      "source": [
        "setVisitedLastYear = {'C1', 'C2', 'C3', 'C4'}\n",
        "setVisitedThisYear = {'C2', 'C5', 'C3', 'C9'}\n",
        "setVisited = setVisitedLastYear.symmetric_difference(setVisitedThisYear)\n",
        "print(setVisited)\n"
      ],
      "metadata": {
        "id": "39XuGAkXqspl"
      },
      "execution_count": null,
      "outputs": []
    },
    {
      "cell_type": "markdown",
      "source": [
        "14. You have a set of parts required to build a machine. Remove a part from the set if it is faulty."
      ],
      "metadata": {
        "id": "WDb87W95q_6o"
      }
    },
    {
      "cell_type": "code",
      "source": [
        "setParts = {'P1', 'P2', 'P3', 'P4', 'P5'}\n",
        "setParts.remove('P3')\n",
        "print(setParts)"
      ],
      "metadata": {
        "id": "xd6yh2JtrPUL"
      },
      "execution_count": null,
      "outputs": []
    },
    {
      "cell_type": "markdown",
      "source": [
        "15. Given two sets representing two different sports clubs' members, find the set of members who are exclusive to the first club."
      ],
      "metadata": {
        "id": "u02-K_AArV9T"
      }
    },
    {
      "cell_type": "code",
      "source": [
        "setMembers1 = {'M1', 'M2', 'M3', 'M4', 'M5'}\n",
        "setMembers2 = { 'M1', 'M3', 'M5', 'M7', 'M9'}\n",
        "setExclusive = setMembers2.difference(setMembers1) #Members who are not in Club 1\n",
        "print(setExclusive)"
      ],
      "metadata": {
        "id": "eXoVqUEarZCb"
      },
      "execution_count": null,
      "outputs": []
    },
    {
      "cell_type": "markdown",
      "source": [
        "16. You have a set of ingredients required for a recipe. Check if a specific ingredient is missing."
      ],
      "metadata": {
        "id": "5rhCbmbbr40J"
      }
    },
    {
      "cell_type": "code",
      "source": [
        "setIngredients = {'I1', 'I2', 'I3', 'I4', 'I5'}\n",
        "if 'I6' in setIngredients:\n",
        "  print(\"I6 is a not missing ingredient\")\n",
        "else:\n",
        "  print(\"I6 is a missing ingredient\")"
      ],
      "metadata": {
        "id": "NP0551f2r9Lg"
      },
      "execution_count": null,
      "outputs": []
    },
    {
      "cell_type": "markdown",
      "source": [
        "17. Given a set of friends on social media and another set of mutual friends with a colleague, find the set of mutual friends."
      ],
      "metadata": {
        "id": "O9_Qi0_ksDRT"
      }
    },
    {
      "cell_type": "code",
      "source": [
        "setSocialFriends = {'F1', 'F2', 'F3', 'F4', 'F5'}\n",
        "setMutualFriendsColleague = {'F1', 'F3', 'F5'}\n",
        "setMutualFriends = setSocialFriends.intersection(setMutualFriendsColleague)\n",
        "print(setMutualFriends)\n"
      ],
      "metadata": {
        "id": "O0rPrKLqsG_p"
      },
      "execution_count": null,
      "outputs": []
    },
    {
      "cell_type": "markdown",
      "source": [
        "18. You have a set of items in your inventory and another set representing items that need restocking. Find the set of items that are currently in stock and need restocking.\n"
      ],
      "metadata": {
        "id": "qDLNMpYqsX_k"
      }
    },
    {
      "cell_type": "code",
      "source": [
        "setInventory = {'I1', 'I2', 'I3', 'I4', 'I5'}\n",
        "setRestocking = {'I1', 'I3', 'I5'}\n",
        "setInStock = setInventory.intersection(setRestocking)\n",
        "print(setInStock)"
      ],
      "metadata": {
        "id": "eswwbsR5stLb"
      },
      "execution_count": null,
      "outputs": []
    },
    {
      "cell_type": "markdown",
      "source": [
        "19. Given a set of languages spoken by employees in a company and another set of languages required for a new project, find the set of languages that are both spoken by employees and required for the project."
      ],
      "metadata": {
        "id": "Nh0FWG98s47c"
      }
    },
    {
      "cell_type": "code",
      "source": [
        "setEmployees = {'L1', 'L2', 'L3', 'L4', 'L5'}\n",
        "setRequired = {'L2', 'L4', 'L6'}\n",
        "setCommon = setEmployees.intersection(setRequired)\n",
        "print(setCommon)"
      ],
      "metadata": {
        "id": "OsEY_7qDs-8h"
      },
      "execution_count": null,
      "outputs": []
    },
    {
      "cell_type": "markdown",
      "source": [
        "20. You have a set of completed tasks and another set of tasks for a project. Find the set of tasks that are yet to be completed."
      ],
      "metadata": {
        "id": "GlMZfCHotEan"
      }
    },
    {
      "cell_type": "code",
      "source": [
        "setCompleted = {'T1', 'T2', 'T3', 'T4', 'T5'}\n",
        "setTasks = {'T1', 'T3', 'T5', 'T7', 'T9'}\n",
        "setYetToComplete = setTasks.difference(setCompleted)\n",
        "print(setYetToComplete)\n"
      ],
      "metadata": {
        "id": "3U10OxQltJkE"
      },
      "execution_count": null,
      "outputs": []
    },
    {
      "cell_type": "markdown",
      "source": [
        "21. Given two sets of preferred travel destinations from two friends, find the set of destinations that both friends prefer.\n"
      ],
      "metadata": {
        "id": "o8D4G_v8tQ1Y"
      }
    },
    {
      "cell_type": "code",
      "source": [
        "setPref1 = {'D1', 'D2', 'D3', 'D4', 'D5'}\n",
        "setPref2 = {'D1', 'D3', 'D5', 'D7', 'D9'}\n",
        "setPref = setPref1.intersection(setPref2)\n",
        "print(setPref)"
      ],
      "metadata": {
        "id": "zQoDWKOZtUvh"
      },
      "execution_count": null,
      "outputs": []
    },
    {
      "cell_type": "markdown",
      "source": [
        "22. You have a set of students who have submitted an assignment and another set of students who have attended a class. Find the set of students who have either submitted the assignment or attended the class.\n"
      ],
      "metadata": {
        "id": "t9l0eUEqtn5s"
      }
    },
    {
      "cell_type": "code",
      "source": [
        "setSubmitted = {'S1', 'S2', 'S3', 'S4', 'S5'}\n",
        "setAttended = {'S1', 'S3', 'S6'}\n",
        "setStudents = setSubmitted.union(setAttended)\n",
        "print(setStudents)"
      ],
      "metadata": {
        "id": "WD_FuuUetvGs"
      },
      "execution_count": null,
      "outputs": []
    },
    {
      "cell_type": "markdown",
      "source": [
        "23. Given a set of current employees and another set of new hires, find the set of all employees after the new hires join."
      ],
      "metadata": {
        "id": "h6L2Sn3LtuXh"
      }
    },
    {
      "cell_type": "code",
      "source": [
        "setCurrent = {'E1', 'E2', 'E3', 'E4', 'E5'}\n",
        "setNew = {'E1', 'E3', 'E6'}\n",
        "setAfterJoin = setCurrent.union(setNew)\n",
        "print(setAfterJoin)"
      ],
      "metadata": {
        "id": "Ufih3b0CuLNc"
      },
      "execution_count": null,
      "outputs": []
    },
    {
      "cell_type": "markdown",
      "source": [
        "24. You have a set of countries visited in your lifetime and another set of countries on your travel wish list. Find the set of countries that you have already visited and are also on your wish list.\n"
      ],
      "metadata": {
        "id": "iG8oGVjTuSZN"
      }
    },
    {
      "cell_type": "code",
      "source": [
        "setVisited = {'C1', 'C2', 'C3', 'C4', 'C5'}\n",
        "setWishList = {'C1', 'C3', 'C6'}\n",
        "setRequired = setVisited.intersection(setWishList)\n",
        "print(setRequired)"
      ],
      "metadata": {
        "id": "mwJEVOO9uRiA"
      },
      "execution_count": null,
      "outputs": []
    },
    {
      "cell_type": "markdown",
      "source": [
        "25. Given two sets representing the collection of books in two different libraries, find the set of books that are available in both libraries."
      ],
      "metadata": {
        "id": "El_XKlkPuhz9"
      }
    },
    {
      "cell_type": "code",
      "source": [
        "setC1 = {'B1', 'B2', 'B3', 'B4'}\n",
        "setC2 = {'B1', 'B3', 'B5'}\n",
        "setC3 = setC1.intersection(setC2)\n",
        "print(setC3)"
      ],
      "metadata": {
        "id": "F2jYnH0EumBZ"
      },
      "execution_count": null,
      "outputs": []
    },
    {
      "cell_type": "markdown",
      "source": [
        "#Practice Questions on Dictionaries"
      ],
      "metadata": {
        "id": "kGtb2zsquv1g"
      }
    },
    {
      "cell_type": "markdown",
      "source": [
        "1. You have a dictionary representing the inventory of a store with item names as keys and quantities as values. Add a new item to the inventory with a specific quantity.\n"
      ],
      "metadata": {
        "id": "NNJW0a7tu0DJ"
      }
    },
    {
      "cell_type": "code",
      "source": [
        "d1 = {'item1': 5, 'item2': 10}\n",
        "d1['item3'] = 15\n",
        "print(d1)"
      ],
      "metadata": {
        "id": "3-UEP1Y1vPJM"
      },
      "execution_count": null,
      "outputs": []
    },
    {
      "cell_type": "markdown",
      "source": [
        "2. Given a dictionary of student names and their scores, find the score of a particular student."
      ],
      "metadata": {
        "id": "wlNE5onzvR2c"
      }
    },
    {
      "cell_type": "code",
      "source": [
        "d1 = {'student1': 80, 'student2': 90, 'student3': 75}\n",
        "print(\"Score of Student 2: \")\n",
        "print(d1['student2'])\n"
      ],
      "metadata": {
        "id": "h1bXDqLtvV8I"
      },
      "execution_count": null,
      "outputs": []
    },
    {
      "cell_type": "markdown",
      "source": [
        "3. You have a dictionary of country names as keys and their capitals as values. Update the capital of a specific country."
      ],
      "metadata": {
        "id": "Lk-7m37qvWYc"
      }
    },
    {
      "cell_type": "code",
      "source": [
        "d1 = {'India':'Mumbai', 'Japan':'Tokyo', 'China': 'Beijing'}\n",
        "print(d1)\n",
        "d1['India'] = 'New Delhi'\n",
        "print(d1)\n"
      ],
      "metadata": {
        "id": "yi5-ULv5veeQ"
      },
      "execution_count": null,
      "outputs": []
    },
    {
      "cell_type": "markdown",
      "source": [
        "4. Given a dictionary of product prices with product names as keys, remove a product from the dictionary."
      ],
      "metadata": {
        "id": "oZT1Itk-vfjW"
      }
    },
    {
      "cell_type": "code",
      "source": [
        "d1 = {'P1':100, 'P2': 200, 'P3':150}\n",
        "print(d1)\n",
        "d1.pop('P2')\n",
        "print(d1)"
      ],
      "metadata": {
        "id": "rkqFXN8gvhhm"
      },
      "execution_count": null,
      "outputs": []
    },
    {
      "cell_type": "markdown",
      "source": [
        "5. You have two dictionaries representing two different departments with employee names as keys and their salaries as values. Merge these two dictionaries into one."
      ],
      "metadata": {
        "id": "eEId_-0Ovh98"
      }
    },
    {
      "cell_type": "code",
      "source": [
        "d1 = {'E1':10000, 'E2': 20000, 'E3':15000}\n",
        "d2 = {'E4':10000, 'E5': 20000, 'E6':15000}\n",
        "d1.update(d2)\n",
        "print(d1)"
      ],
      "metadata": {
        "id": "7S9pqaa4vkCT"
      },
      "execution_count": null,
      "outputs": []
    },
    {
      "cell_type": "markdown",
      "source": [
        "6. Given a dictionary of city names and their populations, check if a particular city is in the dictionary.\n"
      ],
      "metadata": {
        "id": "nxdYv_22vkVL"
      }
    },
    {
      "cell_type": "code",
      "source": [
        "d1 = {'C1':10000, 'C2': 20000, 'C3': 150000}\n",
        "if 'C2' in d1:\n",
        "  print(\"C2 is in the dictionary\")\n",
        "else:\n",
        "  print(\"C2 is not in the dictionary\")"
      ],
      "metadata": {
        "colab": {
          "base_uri": "https://localhost:8080/"
        },
        "id": "7wcMEsKDvts-",
        "outputId": "981faa36-4224-495c-ff91-41d1e71defd9"
      },
      "execution_count": null,
      "outputs": [
        {
          "output_type": "stream",
          "name": "stdout",
          "text": [
            "C2 is in the dictionary\n"
          ]
        }
      ]
    },
    {
      "cell_type": "markdown",
      "source": [
        "7. You have a dictionary of book titles as keys and their authors as values. Add multiple new books to the dictionary at once.\n"
      ],
      "metadata": {
        "id": "JOIWWLWivuDn"
      }
    },
    {
      "cell_type": "code",
      "source": [
        "d1 = {'B1':'A1', 'B2':'A2', 'B3':'A3'}\n",
        "d1.update({'B4':'A4', 'B5':'A5'})\n",
        "print(d1)"
      ],
      "metadata": {
        "id": "Coq3ks_Yv8FE"
      },
      "execution_count": null,
      "outputs": []
    },
    {
      "cell_type": "markdown",
      "source": [
        "8. Given a dictionary of students' names and their grades, find the student with the highest grade.\n"
      ],
      "metadata": {
        "id": "nnhiY0m7v8c9"
      }
    },
    {
      "cell_type": "code",
      "source": [
        "d1 = {'S1':10, 'S2': 20, 'S3':15}\n",
        "print(max(d1, key=d1.get))\n",
        "maxVal = max(d1.values())\n",
        "for key, value in d1.items():\n",
        "    if value == maxVal:\n",
        "        print(key)"
      ],
      "metadata": {
        "colab": {
          "base_uri": "https://localhost:8080/"
        },
        "id": "Ll8W-kKdwAaN",
        "outputId": "947b9c9c-809c-44f9-a022-005098222965"
      },
      "execution_count": null,
      "outputs": [
        {
          "output_type": "stream",
          "name": "stdout",
          "text": [
            "S2\n",
            "S2\n"
          ]
        }
      ]
    },
    {
      "cell_type": "markdown",
      "source": [
        "9. You have a dictionary representing a phone book with names as keys and phone numbers as values. Remove a contact from the phone book.\n",
        "\n"
      ],
      "metadata": {
        "id": "5lHDB9g5wA2O"
      }
    },
    {
      "cell_type": "code",
      "source": [
        "d1 = {'a':1234567890, 'b': 0987654321, 'c': 9876543210}\n",
        "print(d1)\n",
        "d1.pop('b')\n",
        "print(d1)"
      ],
      "metadata": {
        "id": "CoPVlxR7wZLU"
      },
      "execution_count": null,
      "outputs": []
    },
    {
      "cell_type": "markdown",
      "source": [
        "10. Given a dictionary of countries and their populations, create a new dictionary with only those countries that have a population greater than a specified number.\n"
      ],
      "metadata": {
        "id": "FZMLEUcGwZyS"
      }
    },
    {
      "cell_type": "code",
      "source": [
        "d1 = {'India':10000000, 'Japan': 20000000, 'China': 30000000}\n",
        "d2 = {}\n",
        "for key, value in d1.items():\n",
        "    if value > 20000000:\n",
        "        d2[key] = value\n",
        "print(d2)"
      ],
      "metadata": {
        "id": "0CneW7D1w4Q0"
      },
      "execution_count": null,
      "outputs": []
    },
    {
      "cell_type": "markdown",
      "source": [
        "11. You have a dictionary of employee IDs as keys and their names as values. Update the name of an employee given their ID.\n"
      ],
      "metadata": {
        "id": "Wqq2xv-Xw4sg"
      }
    },
    {
      "cell_type": "code",
      "source": [
        "d1 = {'E1':'A', 'E2':'B', 'E3':'C'}\n",
        "d1['E2'] = 'D'\n",
        "print(d1)"
      ],
      "metadata": {
        "id": "yUdNKdymxM8J"
      },
      "execution_count": null,
      "outputs": []
    },
    {
      "cell_type": "markdown",
      "source": [
        "12. Given a dictionary of product names and their prices, calculate the total value of all the products in the dictionary.\n"
      ],
      "metadata": {
        "id": "ubAw5wtixSsw"
      }
    },
    {
      "cell_type": "code",
      "source": [
        "d1 = {'P1':100, 'P2': 200, 'P3':150}\n",
        "print(sum(d1.values()))"
      ],
      "metadata": {
        "id": "6GJA0qeTxYy5"
      },
      "execution_count": null,
      "outputs": []
    },
    {
      "cell_type": "markdown",
      "source": [
        "13. You have a dictionary of movie titles as keys and their release years as values. Find all movies released before a specific year."
      ],
      "metadata": {
        "id": "c5weuqSrxZRb"
      }
    },
    {
      "cell_type": "code",
      "source": [
        "d1 = {'M1':2000, 'M2': 2005, 'M3':2010}\n",
        "for key, value in d1.items():\n",
        "    if value < 2005:\n",
        "        print(key)"
      ],
      "metadata": {
        "id": "9WBBhPbMxdVn"
      },
      "execution_count": null,
      "outputs": []
    },
    {
      "cell_type": "markdown",
      "source": [
        "\n",
        "14. Given a dictionary of customer IDs and their order totals, find the customer with the highest order total.\n"
      ],
      "metadata": {
        "id": "GxOD1JwRxdtq"
      }
    },
    {
      "cell_type": "code",
      "source": [
        "d1 = {'C1':100, 'C2': 200, 'C3':150}\n",
        "#print(max(d1, key=d1.get))\n",
        "maxVal = max(d1.values())\n",
        "for key, value in d1.items():\n",
        "    if value == maxVal:\n",
        "      print(key)"
      ],
      "metadata": {
        "id": "t6NTPZFExhGc"
      },
      "execution_count": null,
      "outputs": []
    },
    {
      "cell_type": "markdown",
      "source": [
        "\n",
        "15. You have a dictionary of words and their definitions. Add a new word with its definition to the dictionary.\n"
      ],
      "metadata": {
        "id": "KUJgp4jKxjmo"
      }
    },
    {
      "cell_type": "code",
      "source": [
        "d1 = {'word1':'definition1', 'word2':'definition2', 'word3':'definition3'}\n",
        "d1['word4'] = 'definition4'\n",
        "d1.update({'word5':'definition5'})\n",
        "print(d1)"
      ],
      "metadata": {
        "colab": {
          "base_uri": "https://localhost:8080/"
        },
        "id": "fxJQTLQUxmXo",
        "outputId": "14533878-2976-4508-cb50-223337d282b9"
      },
      "execution_count": null,
      "outputs": [
        {
          "output_type": "stream",
          "name": "stdout",
          "text": [
            "{'word1': 'definition1', 'word2': 'definition2', 'word3': 'definition3', 'word4': 'definition4', 'word5': 'definition5'}\n"
          ]
        }
      ]
    },
    {
      "cell_type": "markdown",
      "source": [
        "\n",
        "16. Given a dictionary of students and their grades, create a new dictionary where the grades are keys and the values are lists of students who have that grade.\n"
      ],
      "metadata": {
        "id": "LO1JnrQ8xmwW"
      }
    },
    {
      "cell_type": "code",
      "source": [
        "d1 = {'S1':10, 'S2': 20, 'S3':15}\n",
        "d2 = dict()\n",
        "for key, value in d1.items():\n",
        "  d2[value] = key\n",
        "print(d2)"
      ],
      "metadata": {
        "colab": {
          "base_uri": "https://localhost:8080/"
        },
        "id": "M8sgcg9dxr82",
        "outputId": "6d778243-ea2a-45e0-cea9-31d35446c1a5"
      },
      "execution_count": null,
      "outputs": [
        {
          "output_type": "stream",
          "name": "stdout",
          "text": [
            "{10: 'S1', 20: 'S2', 15: 'S3'}\n"
          ]
        }
      ]
    },
    {
      "cell_type": "markdown",
      "source": [
        "\n",
        "17. You have a dictionary representing a menu with dish names as keys and prices as values. Remove a dish from the menu and print the updated menu.\n"
      ],
      "metadata": {
        "id": "RWt48L9axsTe"
      }
    },
    {
      "cell_type": "code",
      "source": [
        "d1 = {'D1':100, 'D2': 200, 'D3':150}\n",
        "print(d1)\n",
        "d1.pop('D2')\n",
        "print(d1)"
      ],
      "metadata": {
        "id": "w9B5cdwJxvCn"
      },
      "execution_count": null,
      "outputs": []
    },
    {
      "cell_type": "markdown",
      "source": [
        "\n",
        "18. Given a dictionary of employee names and their department names, find all employees in a specific department.\n"
      ],
      "metadata": {
        "id": "1Xsm6nkTxvUO"
      }
    },
    {
      "cell_type": "code",
      "source": [
        "d1 = {'E1':'D1', 'E2':'D2', 'E3':'D3'}\n",
        "for key, value in d1.items():\n",
        "    if value == 'D1':\n",
        "        print(key)"
      ],
      "metadata": {
        "id": "KkFuyd0LxxyC"
      },
      "execution_count": null,
      "outputs": []
    },
    {
      "cell_type": "markdown",
      "source": [
        "\n",
        "19. You have a dictionary of course names as keys and the number of enrolled students as values. Increase the number of enrolled students for a specific course by a given number.\n"
      ],
      "metadata": {
        "id": "vfrpYvpqxyHP"
      }
    },
    {
      "cell_type": "code",
      "source": [
        "d1 = {'C1':10, 'C2': 20, 'C3':15}\n",
        "d1['C2'] = d1['C2'] + 5\n",
        "print(d1)"
      ],
      "metadata": {
        "id": "JMhpAJcsx0Xv"
      },
      "execution_count": null,
      "outputs": []
    },
    {
      "cell_type": "markdown",
      "source": [
        "\n",
        "20. Given a dictionary of book titles and their prices, create a list of all book titles that cost less than a specified amount.\n"
      ],
      "metadata": {
        "id": "GyludTtlx0wk"
      }
    },
    {
      "cell_type": "code",
      "source": [
        "d1 = {'B1':100, 'B2': 200, 'B3':150}\n",
        "for key, value in d1.items():\n",
        "    if value < 200:\n",
        "        print(key)"
      ],
      "metadata": {
        "id": "Uc_vkcUGx3-s"
      },
      "execution_count": null,
      "outputs": []
    },
    {
      "cell_type": "markdown",
      "source": [
        "\n",
        "21. You have a dictionary of country names as keys and their population as values. Sort the dictionary by population in ascending order.\n"
      ],
      "metadata": {
        "id": "mSQOxauZx4gl"
      }
    },
    {
      "cell_type": "code",
      "source": [
        "d1 = {'India':10000000, 'Japan': 20000000, 'China': 30000000}\n",
        "d2 = dict(sorted(d1.items(), key=lambda item: item[1]))\n",
        "print(d2)\n",
        "l1 = d1.items()\n",
        "l1.sort(key=lambda x: x[1])\n",
        "print(l1)\n"
      ],
      "metadata": {
        "colab": {
          "base_uri": "https://localhost:8080/"
        },
        "id": "RcDbA4Qlx7Zb",
        "outputId": "35978e2f-70be-4a19-b0e7-29f21b75ceaf"
      },
      "execution_count": null,
      "outputs": [
        {
          "output_type": "stream",
          "name": "stdout",
          "text": [
            "dict_items([('India', 10000000), ('Japan', 20000000), ('China', 30000000)])\n"
          ]
        }
      ]
    },
    {
      "cell_type": "markdown",
      "source": [
        "\n",
        "22. Given a dictionary of employee names and their salaries, create a new dictionary with only those employees who earn more than a specified amount.\n"
      ],
      "metadata": {
        "id": "oYQZFO1Xx8Hf"
      }
    },
    {
      "cell_type": "code",
      "source": [
        "d1 = {'E1':10000, 'E2': 20000, 'E3':15000}\n",
        "d2 = {}\n",
        "for key, value in d1.items():\n",
        "    if value > 15000:\n",
        "        d2[key] = value\n",
        "print(d2)"
      ],
      "metadata": {
        "id": "ty85lD2ex-X_"
      },
      "execution_count": null,
      "outputs": []
    },
    {
      "cell_type": "markdown",
      "source": [
        "\n",
        "23. You have a dictionary of product names as keys and their quantities as values. Check if the inventory is empty and print an appropriate message.\n"
      ],
      "metadata": {
        "id": "EZuW6aM2x--X"
      }
    },
    {
      "cell_type": "code",
      "source": [
        "d1 = {'P1':10, 'P2': 20, 'P3':15}\n",
        "if len(d1) == 0:\n",
        "  print(\"Inventory is empty\")\n",
        "else:\n",
        "  print(\"Inventory is not empty\")"
      ],
      "metadata": {
        "id": "s2FKPhGHyBFF"
      },
      "execution_count": null,
      "outputs": []
    },
    {
      "cell_type": "markdown",
      "source": [
        "\n",
        "24. Given a dictionary of city names and their corresponding weather conditions, find the weather condition for a specific city.\n"
      ],
      "metadata": {
        "id": "4U3MB078yBow"
      }
    },
    {
      "cell_type": "code",
      "source": [
        "d1 = { 'C1':'Sunny', 'C2':'Rainy', 'C3':'Cloudy'}\n",
        "print(d1['C2'])\n",
        "print(d1.get('C2'))"
      ],
      "metadata": {
        "colab": {
          "base_uri": "https://localhost:8080/"
        },
        "id": "4J0iVs_QyE2d",
        "outputId": "c79ab7bc-f784-486c-e786-abe9eaf19d2e"
      },
      "execution_count": null,
      "outputs": [
        {
          "output_type": "stream",
          "name": "stdout",
          "text": [
            "Rainy\n",
            "Rainy\n"
          ]
        }
      ]
    },
    {
      "cell_type": "markdown",
      "source": [
        "\n",
        "25. You have a dictionary of student names and their test scores. Create a new dictionary where the keys are the test scores and the values are lists of students who achieved those scores.\n"
      ],
      "metadata": {
        "id": "VmJW-YrkyFQ3"
      }
    },
    {
      "cell_type": "code",
      "source": [
        "d1 = {'S1':10, 'S2': 20, 'S3':15}\n",
        "d2 = dict()\n",
        "for key, value in d1.items():\n",
        "  d2[value] = key\n",
        "print(d2)"
      ],
      "metadata": {
        "id": "Q46r7OTnyHKg"
      },
      "execution_count": null,
      "outputs": []
    },
    {
      "cell_type": "markdown",
      "source": [
        "\n",
        "26. Given a dictionary of items and their prices, calculate the average price of all items.\n"
      ],
      "metadata": {
        "id": "KQtzh54JyHdO"
      }
    },
    {
      "cell_type": "code",
      "source": [
        "d1 = {'P1':100, 'P2': 200, 'P3':150}\n",
        "print(sum(d1.values())/len(d1))"
      ],
      "metadata": {
        "id": "0R_W3ZU4yKCW"
      },
      "execution_count": null,
      "outputs": []
    },
    {
      "cell_type": "markdown",
      "source": [
        "\n",
        "27. You have a dictionary of employee names and their respective years of experience. Find the employee with the least experience.\n"
      ],
      "metadata": {
        "id": "sbqSMoh7yKV0"
      }
    },
    {
      "cell_type": "code",
      "source": [
        "d1 = {'E1':10, 'E2': 20, 'E3':15}\n",
        "print(min(d1, key=d1.get))\n",
        "minVal = min(d1.values())\n",
        "for key, value in d1.items():\n",
        "    if value == minVal:\n",
        "        print(key)"
      ],
      "metadata": {
        "id": "UGQbkLn2yNTb"
      },
      "execution_count": null,
      "outputs": []
    },
    {
      "cell_type": "markdown",
      "source": [
        "\n",
        "28. Given a dictionary of names and ages, create a new dictionary where the keys are age groups (e.g., 20-29, 30-39) and the values are lists of names in those age groups.\n"
      ],
      "metadata": {
        "id": "fiYzR6WPyNxc"
      }
    },
    {
      "cell_type": "code",
      "source": [
        "d1 = {'N1':20, 'N2': 30, 'N3':25, 'N4':98, 'N5':32, 'N6':35, 'N7':48, 'N8':18}\n",
        "d2 = {}\n",
        "\n",
        "for name, age in d1.items():\n",
        "    age_group = f\"{age//10*10}-{age//10*10+9}\"\n",
        "    if age_group not in d2:\n",
        "        d2[age_group] = []\n",
        "    d2[age_group].append(name)\n",
        "\n",
        "print(d2)"
      ],
      "metadata": {
        "colab": {
          "base_uri": "https://localhost:8080/"
        },
        "id": "QqTblK2lyQDQ",
        "outputId": "5d4f13c8-8426-4fcf-9edd-e59d035205b2"
      },
      "execution_count": null,
      "outputs": [
        {
          "output_type": "stream",
          "name": "stdout",
          "text": [
            "{'20-29': ['N1', 'N3'], '30-39': ['N2', 'N5', 'N6'], '90-99': ['N4'], '40-49': ['N7'], '10-19': ['N8']}\n"
          ]
        }
      ]
    },
    {
      "cell_type": "markdown",
      "source": [
        "29. You have a dictionary of programming languages as keys and their creators as values. Add a new programming language and its creator to the dictionary.\n"
      ],
      "metadata": {
        "id": "Tw2RZajUyPBC"
      }
    },
    {
      "cell_type": "code",
      "source": [
        "d1 = {'P1':'A1', 'P2':'A2', 'P3':'A3'}\n",
        "d1['P4'] = 'A4'\n",
        "d1.update({'P5':'A5'})\n",
        "print(d1)"
      ],
      "metadata": {
        "id": "ZVATwCtWyUbZ"
      },
      "execution_count": null,
      "outputs": []
    },
    {
      "cell_type": "markdown",
      "source": [
        "30. Given a dictionary of countries and their GDPs, create a new dictionary with only those countries that have a GDP greater than a specified amount."
      ],
      "metadata": {
        "id": "KbfK8wGWyUw-"
      }
    },
    {
      "cell_type": "code",
      "source": [
        "d1 = {'India':10000000, 'Japan': 20000000, 'China': 30000000}\n",
        "d2 = dict()\n",
        "for key, value in d1.items():\n",
        "    if value > 10000000:\n",
        "        d2[key] = value\n",
        "print(d2)"
      ],
      "metadata": {
        "id": "GKjTKr_kyYrS"
      },
      "execution_count": null,
      "outputs": []
    }
  ]
}
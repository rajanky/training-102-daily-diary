{
  "nbformat": 4,
  "nbformat_minor": 0,
  "metadata": {
    "colab": {
      "provenance": [],
      "include_colab_link": true
    },
    "kernelspec": {
      "name": "python3",
      "display_name": "Python 3"
    },
    "language_info": {
      "name": "python"
    }
  },
  "cells": [
    {
      "cell_type": "markdown",
      "metadata": {
        "id": "view-in-github",
        "colab_type": "text"
      },
      "source": [
        "<a href=\"https://colab.research.google.com/github/rajanky/training-102-daily-diary/blob/main/Day2.ipynb\" target=\"_parent\"><img src=\"https://colab.research.google.com/assets/colab-badge.svg\" alt=\"Open In Colab\"/></a>"
      ]
    },
    {
      "cell_type": "markdown",
      "source": [
        "**Day 2 of Training at Ansh Info Tech**\n",
        "\n",
        "***Topics Covered***\n",
        "\n",
        "*   Lists in Python\n",
        "*   Lists Creation, List Constructor, List Slcing, List Concatenation\n",
        "*   List Functions -> len(), sum(), sorted()\n",
        "*   List Methods -> .append(-), .clear(), .copy(), .count(-), .extend(), .index(), .insert(), .pop(), .remove(), .reverse(), .sort()\n",
        "*   List Indexing in Python\n",
        "*   Tuples -> Creation (), Mutable, tuple() constructor, concatenation\n",
        "*   Access, immutability, changing-> convert to list, change, reconvert to tuple\n",
        "*   Methods -> count(), index() etc.\n",
        "*   30+ Practice Questions on Lists and Tuple\n"
      ],
      "metadata": {
        "id": "k1hZ4dFrzJ8l"
      }
    },
    {
      "cell_type": "code",
      "execution_count": null,
      "metadata": {
        "colab": {
          "base_uri": "https://localhost:8080/"
        },
        "id": "RbcXIRhSzAfE",
        "outputId": "3d5a2ef2-15cd-4c7f-ff5c-1ad408a3a9c3"
      },
      "outputs": [
        {
          "output_type": "stream",
          "name": "stdout",
          "text": [
            "['a', 'b', 2]\n",
            "['a', 'b', 2, ['c', 1]]\n",
            "['Mehak', 'Jacky', 'Jacky', 'Oggy']\n"
          ]
        }
      ],
      "source": [
        "# Lists, Tuples, Set, Dictionaries\n",
        "# Lists -> Heterogeneous, Nestable, Mutable\n",
        "# len()-> Length Function\n",
        "# list() constructor to create a list\n",
        "# Example: thislist = list(('a','b'))\n",
        "# indexing: 0 to n-1, -n to -1\n",
        "# Methods -> .append(-), .clear(), .copy(), .count(-), .extend(), .index(), .insert(), .pop(), .remove(), .reverse(), .sort(), .sorted()\n",
        "l1 = ['a','b']\n",
        "l2 = ['c', 1]\n",
        "l1.append(2)\n",
        "print(l1)\n",
        "l1.append(l2)\n",
        "print(l1)\n",
        "thislist = list((\"Mehak\", \"Jacky\", \"Jacky\", \"Oggy\"))\n",
        "print(thislist)"
      ]
    },
    {
      "cell_type": "markdown",
      "source": [
        "colors = ['red', 'blue', 'green', 'yellow']\n",
        "\n",
        "Using the colors list defined above, print the:\n",
        "\n",
        "First element, Second element, Last element, Second-to-last element, Second and third elements, Element at index 4."
      ],
      "metadata": {
        "id": "V6DW40ZC6b6Z"
      }
    },
    {
      "cell_type": "code",
      "source": [
        "colors = ['red', 'blue', 'green', 'yellow']\n",
        "print(colors[0])\n",
        "print(colors[1])\n",
        "print(colors[-1])\n",
        "print(colors[1:])\n",
        "print(colors[1:3])\n",
        "print(colors[4])"
      ],
      "metadata": {
        "colab": {
          "base_uri": "https://localhost:8080/",
          "height": 274
        },
        "id": "ZhpKTE966g9O",
        "outputId": "1f329118-f4f2-4164-c8b2-08d63a506b8a"
      },
      "execution_count": null,
      "outputs": [
        {
          "output_type": "stream",
          "name": "stdout",
          "text": [
            "red\n",
            "blue\n",
            "yellow\n",
            "['blue', 'green', 'yellow']\n",
            "['blue', 'green']\n"
          ]
        },
        {
          "output_type": "error",
          "ename": "IndexError",
          "evalue": "list index out of range",
          "traceback": [
            "\u001b[0;31m---------------------------------------------------------------------------\u001b[0m",
            "\u001b[0;31mIndexError\u001b[0m                                Traceback (most recent call last)",
            "\u001b[0;32m<ipython-input-8-00f0854c09e3>\u001b[0m in \u001b[0;36m<cell line: 7>\u001b[0;34m()\u001b[0m\n\u001b[1;32m      5\u001b[0m \u001b[0mprint\u001b[0m\u001b[0;34m(\u001b[0m\u001b[0mcolors\u001b[0m\u001b[0;34m[\u001b[0m\u001b[0;36m1\u001b[0m\u001b[0;34m:\u001b[0m\u001b[0;34m]\u001b[0m\u001b[0;34m)\u001b[0m\u001b[0;34m\u001b[0m\u001b[0;34m\u001b[0m\u001b[0m\n\u001b[1;32m      6\u001b[0m \u001b[0mprint\u001b[0m\u001b[0;34m(\u001b[0m\u001b[0mcolors\u001b[0m\u001b[0;34m[\u001b[0m\u001b[0;36m1\u001b[0m\u001b[0;34m:\u001b[0m\u001b[0;36m3\u001b[0m\u001b[0;34m]\u001b[0m\u001b[0;34m)\u001b[0m\u001b[0;34m\u001b[0m\u001b[0;34m\u001b[0m\u001b[0m\n\u001b[0;32m----> 7\u001b[0;31m \u001b[0mprint\u001b[0m\u001b[0;34m(\u001b[0m\u001b[0mcolors\u001b[0m\u001b[0;34m[\u001b[0m\u001b[0;36m4\u001b[0m\u001b[0;34m]\u001b[0m\u001b[0;34m)\u001b[0m\u001b[0;34m\u001b[0m\u001b[0;34m\u001b[0m\u001b[0m\n\u001b[0m",
            "\u001b[0;31mIndexError\u001b[0m: list index out of range"
          ]
        }
      ]
    },
    {
      "cell_type": "markdown",
      "source": [
        " Below is a list with seven integer values representing the daily water level (in cm) in an imaginary lake. However, there is a mistake in the data. The third day’s water level should be 693. Correct the mistake and print the changed list.\n",
        "\n",
        "water_level = [730, 709, 682, 712, 733, 751, 740]\n",
        "\n",
        "ques 3. Add the data for the eighth day to the list from above. The water level was 772 cm on that day. Print the list contents afterwards.\n",
        "\n",
        "ques 4. Still using the same list, add three consecutive days using a single instruction. The water levels on the 9th through 11th days were 772 cm, 770 cm, and 745 cm. Add these values and then print the whole list.\n"
      ],
      "metadata": {
        "id": "5WfxdWeU8t3q"
      }
    },
    {
      "cell_type": "code",
      "source": [
        "water_level = [730, 709, 682, 712, 733, 751, 740]\n",
        "water_level[2] = 693\n",
        "print(water_level)\n",
        "\n",
        "water_level.append(772)\n",
        "print(water_level)\n",
        "\n",
        "water_level.extend([772, 770, 745])\n",
        "print(water_level)"
      ],
      "metadata": {
        "colab": {
          "base_uri": "https://localhost:8080/"
        },
        "id": "gB4FfJbW8xHu",
        "outputId": "1999fabf-b0fb-445a-c46b-78bf7e04c183"
      },
      "execution_count": null,
      "outputs": [
        {
          "output_type": "stream",
          "name": "stdout",
          "text": [
            "[730, 709, 693, 712, 733, 751, 740]\n",
            "[730, 709, 693, 712, 733, 751, 740, 772]\n",
            "[730, 709, 693, 712, 733, 751, 740, 772, 772, 770, 745]\n"
          ]
        }
      ]
    },
    {
      "cell_type": "markdown",
      "source": [
        "There are two ways to delete data from a list: by using the index or by using the value. Start with the original water_level list we defined in the second exercise and delete the first element using its index. Then define the list again and delete the first element using its value."
      ],
      "metadata": {
        "id": "9d91bux087ip"
      }
    },
    {
      "cell_type": "code",
      "source": [
        "water_level = [730, 709, 682, 712, 733, 751, 740]\n",
        "water_level.pop(0)\n",
        "print(water_level)\n",
        "water_level = [730, 709, 682, 712, 733, 751, 740]\n",
        "water_level.remove(730)\n",
        "print(water_level)\n"
      ],
      "metadata": {
        "id": "Og3oe3Cm9y3v"
      },
      "execution_count": null,
      "outputs": []
    },
    {
      "cell_type": "markdown",
      "source": [
        "Tuples -> (), Mutable, tuple() constructor, single element-> (1,), access, immutable, for changing-> convert to list and then reconvert to tuple\n",
        "Methods -> count(), index()"
      ],
      "metadata": {
        "id": "2bcL33LS-TXl"
      }
    },
    {
      "cell_type": "markdown",
      "source": [
        "Tuple Creation and Access:\n",
        "Create a tuple named colors with the elements 'red', 'green', and 'blue'.\n",
        "Access the second element of the tuple and print it."
      ],
      "metadata": {
        "id": "zpIxQyIqDGOP"
      }
    },
    {
      "cell_type": "code",
      "source": [
        "colors = ('red', 'green', 'blue')\n",
        "print(colors[1])"
      ],
      "metadata": {
        "id": "3xaCJHsfDTsw"
      },
      "execution_count": null,
      "outputs": []
    },
    {
      "cell_type": "markdown",
      "source": [
        ". Immutable Nature:\n",
        "Explain in your own words why tuples are considered immutable.\n",
        "Attempt to modify an element in an existing tuple and observe the resulting error.\n"
      ],
      "metadata": {
        "id": "r9Yc_sQmDT1M"
      }
    },
    {
      "cell_type": "code",
      "source": [
        "#Tuples are immutable, because if we try and modify an element of the tuple, we get an error\n",
        "colors = ('red', 'green', 'blue')\n",
        "colors[1] = 'yellow'\n",
        "print(colors)"
      ],
      "metadata": {
        "colab": {
          "base_uri": "https://localhost:8080/",
          "height": 201
        },
        "id": "3bEmJuwLDPjG",
        "outputId": "77545484-38b8-4d3b-91a5-7ce2844741b0"
      },
      "execution_count": null,
      "outputs": [
        {
          "output_type": "error",
          "ename": "TypeError",
          "evalue": "'tuple' object does not support item assignment",
          "traceback": [
            "\u001b[0;31m---------------------------------------------------------------------------\u001b[0m",
            "\u001b[0;31mTypeError\u001b[0m                                 Traceback (most recent call last)",
            "\u001b[0;32m<ipython-input-12-798c8f4a4d6e>\u001b[0m in \u001b[0;36m<cell line: 3>\u001b[0;34m()\u001b[0m\n\u001b[1;32m      1\u001b[0m \u001b[0;31m#Tuples are immutable, because if we try and modify an element of the tuple, we get an error\u001b[0m\u001b[0;34m\u001b[0m\u001b[0;34m\u001b[0m\u001b[0m\n\u001b[1;32m      2\u001b[0m \u001b[0mcolors\u001b[0m \u001b[0;34m=\u001b[0m \u001b[0;34m(\u001b[0m\u001b[0;34m'red'\u001b[0m\u001b[0;34m,\u001b[0m \u001b[0;34m'green'\u001b[0m\u001b[0;34m,\u001b[0m \u001b[0;34m'blue'\u001b[0m\u001b[0;34m)\u001b[0m\u001b[0;34m\u001b[0m\u001b[0;34m\u001b[0m\u001b[0m\n\u001b[0;32m----> 3\u001b[0;31m \u001b[0mcolors\u001b[0m\u001b[0;34m[\u001b[0m\u001b[0;36m1\u001b[0m\u001b[0;34m]\u001b[0m \u001b[0;34m=\u001b[0m \u001b[0;34m'yellow'\u001b[0m\u001b[0;34m\u001b[0m\u001b[0;34m\u001b[0m\u001b[0m\n\u001b[0m\u001b[1;32m      4\u001b[0m \u001b[0mprint\u001b[0m\u001b[0;34m(\u001b[0m\u001b[0mcolors\u001b[0m\u001b[0;34m)\u001b[0m\u001b[0;34m\u001b[0m\u001b[0;34m\u001b[0m\u001b[0m\n",
            "\u001b[0;31mTypeError\u001b[0m: 'tuple' object does not support item assignment"
          ]
        }
      ]
    },
    {
      "cell_type": "markdown",
      "source": [
        "Tuple Slicing:\n",
        "Given the tuple numbers = (1, 2, 3, 4, 5) , use slicing to extract the elements from index 1 to 3 (inclusive).\n",
        "What would be the output of numbers[::-1] ?"
      ],
      "metadata": {
        "id": "K0sB-5fPDOzJ"
      }
    },
    {
      "cell_type": "code",
      "source": [
        "numbers = (1,2,3,4,5)\n",
        "print(numbers[1:4])\n",
        "#Output of numbers[::-1] is the tuple in reverse order\n",
        "print(numbers[::-1])"
      ],
      "metadata": {
        "colab": {
          "base_uri": "https://localhost:8080/"
        },
        "id": "D4s7qwIMEKaO",
        "outputId": "fee05203-acdd-46ce-8840-96c6f7876b2b"
      },
      "execution_count": null,
      "outputs": [
        {
          "output_type": "stream",
          "name": "stdout",
          "text": [
            "(2, 3, 4)\n",
            "(5, 4, 3, 2, 1)\n"
          ]
        }
      ]
    },
    {
      "cell_type": "markdown",
      "source": [
        " Tuple Concatenation and Repetition:\n",
        "Create two tuples, fruits with elements 'apple', 'banana', and berries with elements 'strawberry', 'blueberry'.\n",
        "Concatenate the two tuples and store the result in a new tuple named combined_fruits .\n",
        "Repeat the combined_fruits tuple three times and print the result.\n"
      ],
      "metadata": {
        "id": "5i9dR3SVEbRn"
      }
    },
    {
      "cell_type": "code",
      "source": [
        "fruits = ('apple', 'banana', 'berries')\n",
        "berries = ('strawberry', 'blueberry')\n",
        "combined_fruits = fruits + berries\n",
        "print(combined_fruits)\n",
        "print(combined_fruits*3)"
      ],
      "metadata": {
        "id": "HA9pj0OvEcyD"
      },
      "execution_count": null,
      "outputs": []
    },
    {
      "cell_type": "markdown",
      "source": [
        "Built-in Tuple Methods:\n",
        "Create a tuple named grades with the elements 90, 85, 92, 88, 95.\n",
        "Use the count() method to find how many times the grade 88 appears in the tuple.\n",
        "Use the index() method to find the index of the grade 92."
      ],
      "metadata": {
        "id": "s6q3q-52Fnb6"
      }
    },
    {
      "cell_type": "code",
      "source": [
        "grades = (90, 85, 92, 88, 95)\n",
        "print(grades.count(88))\n",
        "print(grades.index(92))"
      ],
      "metadata": {
        "colab": {
          "base_uri": "https://localhost:8080/"
        },
        "id": "yiFXDsEGFrqU",
        "outputId": "c5e7ea14-ad46-4ec9-c891-b55b8810604a"
      },
      "execution_count": null,
      "outputs": [
        {
          "output_type": "stream",
          "name": "stdout",
          "text": [
            "1\n",
            "2\n"
          ]
        }
      ]
    },
    {
      "cell_type": "markdown",
      "source": [
        "Advantages of Tuples:\n",
        "Explain one advantage of using tuples over lists in Python.\n",
        "Describe a scenario where the immutability of tuples could be beneficial in a program.\n"
      ],
      "metadata": {
        "id": "_oLUNp71GHYS"
      }
    },
    {
      "cell_type": "code",
      "source": [
        "\n",
        "\n",
        "# Advantage of using tuples over lists:\n",
        "# Memory efficiency: Tuples are more memory efficient than lists because they are immutable.\n",
        "# This means that the memory allocated to a tuple cannot be changed, which makes it more compact and\n",
        "# efficient in terms of memory usage.\n",
        "\n",
        "# Scenario where immutability of tuples is beneficial:\n",
        "# Security: In situations where data integrity is critical, such as in financial transactions or\n",
        "# secure communication protocols, using tuples can provide an additional layer of security. Since\n",
        "# tuples are immutable, once data is stored in a tuple, it cannot be accidentally or intentionally\n",
        "# modified, ensuring the integrity and consistency of the data.\n"
      ],
      "metadata": {
        "id": "13YGzWE0GNCO"
      },
      "execution_count": null,
      "outputs": []
    },
    {
      "cell_type": "markdown",
      "source": [
        " Multiple Data Types in a Tuple:\n",
        "Create a tuple named mixed_types with elements 'apple', 42, and 3.14.\n",
        "Access and print the second element of the tuple.\n"
      ],
      "metadata": {
        "id": "yZmjIEScHBbA"
      }
    },
    {
      "cell_type": "code",
      "source": [
        "mixed_types = ('apple', 42, 3.14)\n",
        "print(mixed_types[1])\n"
      ],
      "metadata": {
        "id": "Bc1bAeQHHJVY"
      },
      "execution_count": null,
      "outputs": []
    },
    {
      "cell_type": "markdown",
      "source": [
        "Conversion:\n",
        "Convert the list ['cat', 'dog', 'rabbit'] into a tuple named animals .\n",
        "Print the tuple to verify the conversion."
      ],
      "metadata": {
        "id": "SHQ0KDc0HUrR"
      }
    },
    {
      "cell_type": "code",
      "source": [
        "l1 = ['cat','dog','rabbit']\n",
        "animals = tuple(l1)\n",
        "print(animals)"
      ],
      "metadata": {
        "id": "g28ZwNwsHmru"
      },
      "execution_count": null,
      "outputs": []
    },
    {
      "cell_type": "markdown",
      "source": [
        "Nested Tuples:\n",
        "Create a tuple outer_tuple with two elements: 'apple' and another tuple ('red', 'green', 'yellow').\n",
        "Access the second element of the inner tuple and print it.\n"
      ],
      "metadata": {
        "id": "gvAdMzsnHxz3"
      }
    },
    {
      "cell_type": "code",
      "source": [
        "outer_tuple = ('apple', ('red','green', 'yellow'))\n",
        "print(outer_tuple[1][1])"
      ],
      "metadata": {
        "colab": {
          "base_uri": "https://localhost:8080/"
        },
        "id": "JG6Io6xQH5M5",
        "outputId": "69b68642-1662-4505-9e5b-60a4d90bd183"
      },
      "execution_count": null,
      "outputs": [
        {
          "output_type": "stream",
          "name": "stdout",
          "text": [
            "green\n"
          ]
        }
      ]
    },
    {
      "cell_type": "markdown",
      "source": [
        "- You are managing the inventory for a small bookstore. Create a list of book titles available in the store. Add new titles to the list as they arrive. If a book is sold out, remove it from the list. Check if a specific book is in stock without using function\n"
      ],
      "metadata": {
        "id": "1GlS0VBIMKad"
      }
    },
    {
      "cell_type": "code",
      "source": [
        "book_titles = ['Book1', 'Book2', 'Book3']\n",
        "book_titles.append('Book4')\n",
        "print(book_titles)\n",
        "book_titles.remove('Book3')\n",
        "print(book_titles)\n",
        "if 'Book2' in book_titles:\n",
        "    print('Book2 is in stock')\n",
        "else:\n",
        "    print('Book2 is not in Stock')\n"
      ],
      "metadata": {
        "colab": {
          "base_uri": "https://localhost:8080/"
        },
        "id": "FWwrvjndMhII",
        "outputId": "a267e4a3-8ff9-42d7-9084-e55f260ebfe5"
      },
      "execution_count": null,
      "outputs": [
        {
          "output_type": "stream",
          "name": "stdout",
          "text": [
            "['Book1', 'Book2', 'Book3', 'Book4']\n",
            "['Book1', 'Book2', 'Book4']\n",
            "Book2 is in stock\n"
          ]
        }
      ]
    },
    {
      "cell_type": "markdown",
      "source": [
        "You are working on a mapping application that stores geographical coordinates (latitude and longitude) as tuples. Create a list of these coordinate tuples. Write functions to add a new coordinate, find a specific coordinate, and calculate the distance between two coordinates"
      ],
      "metadata": {
        "id": "nOqg3thDNen2"
      }
    },
    {
      "cell_type": "code",
      "source": [
        "c1 = (15.12,25.12)\n",
        "c2 = (15, 23.35)\n",
        "li = [c1, c2]\n",
        "li.append((42,24.15))\n",
        "li.index((15, 23.35))\n",
        "dist = (li[0][0]-li[1][0], li[0][1]-li[1][1])\n",
        "print(dist)"
      ],
      "metadata": {
        "colab": {
          "base_uri": "https://localhost:8080/"
        },
        "id": "AGuK5-PlOD4X",
        "outputId": "61f909cc-5a93-4bb0-d3bd-372c9d4974a6"
      },
      "execution_count": null,
      "outputs": [
        {
          "output_type": "stream",
          "name": "stdout",
          "text": [
            "(0.11999999999999922, 1.7699999999999996)\n"
          ]
        }
      ]
    },
    {
      "cell_type": "markdown",
      "source": [
        "2.\n",
        "   - You have a list of grades for a class of students. Write a function to add a new grade to the list. Another function should remove the lowest grade. Write a third function to calculate the average grade."
      ],
      "metadata": {
        "id": "sgr9gr0iQJ7T"
      }
    },
    {
      "cell_type": "code",
      "source": [
        "li = [5, 7, 4, 9]\n",
        "li.append(10)\n",
        "li.remove(min(li))\n",
        "print(avg(li))"
      ],
      "metadata": {
        "id": "azIDu3ZSQLnV"
      },
      "execution_count": null,
      "outputs": []
    },
    {
      "cell_type": "markdown",
      "source": [
        "1.\n",
        "   - You are managing employee records for a company. Each employee's record is stored as a tuple containing their name, ID, and department. Create a list of tuples to store these records. Write a function to add a new employee, another to find an employee by their ID, and a function to update the department of a specific employee."
      ],
      "metadata": {
        "id": "rY8Swz-pJmQd"
      }
    },
    {
      "cell_type": "code",
      "source": [
        "t1 = ('rahul', 1234, 'cse')\n",
        "t2 = ('b', 1235, 'abc')\n",
        "t3 = ('c', 1352, 'adf')\n",
        "l1 = [t1, t2, t3]\n",
        "print(l1)\n",
        "l1.append(['d', 12345, 'sdf'])\n",
        "print(l1)\n",
        "for i in range(0, len(l1)):\n",
        "  if(1234 == l1[i][1]):\n",
        "      print(\"Employee index is \", i);\n",
        "      print(l1[i]);\n",
        "temp = list(l1[2])\n",
        "temp[2]='bcd'\n",
        "l1[2]=tuple(temp)\n",
        "print(l1)\n"
      ],
      "metadata": {
        "colab": {
          "base_uri": "https://localhost:8080/"
        },
        "id": "V4UfR9O-Jn5M",
        "outputId": "20ac8269-6420-4900-f521-3d4ab50fe2a2"
      },
      "execution_count": null,
      "outputs": [
        {
          "output_type": "stream",
          "name": "stdout",
          "text": [
            "[('rahul', 1234, 'cse'), ('b', 1235, 'abc'), ('c', 1352, 'adf')]\n",
            "[('rahul', 1234, 'cse'), ('b', 1235, 'abc'), ('c', 1352, 'adf'), ['d', 12345, 'sdf']]\n",
            "Employee index is  0\n",
            "('rahul', 1234, 'cse')\n",
            "[('rahul', 1234, 'cse'), ('b', 1235, 'abc'), ('c', 1352, 'bcd'), ['d', 12345, 'sdf']]\n"
          ]
        }
      ]
    },
    {
      "cell_type": "markdown",
      "source": [
        "3.\n",
        "   - Implement a simple to-do list application. Create a list to store tasks. Write functions to add a task, remove a task by its name, and display all tasks. Ensure that the tasks are displayed in the order they were added."
      ],
      "metadata": {
        "id": "vvlJYR2sZcr9"
      }
    },
    {
      "cell_type": "code",
      "source": [
        "li = ['bathing', 'singing','dancing', 'running']\n",
        "li.append('eating')\n",
        "li.remove('dancing')\n",
        "print(li)"
      ],
      "metadata": {
        "id": "qYWUqEl6Z5Zl"
      },
      "execution_count": null,
      "outputs": []
    },
    {
      "cell_type": "markdown",
      "source": [
        "4.\n",
        "   - Create a list to store items you need to buy from the grocery store. Write functions to add items, remove items, and check if a specific item is already on the list. Ensure that duplicate items are not added."
      ],
      "metadata": {
        "id": "DacX4x9rZ6HA"
      }
    },
    {
      "cell_type": "code",
      "source": [
        "li = ['a','b','c']\n",
        "if 'd' not in li:\n",
        "  li.append('d')\n",
        "else:\n",
        "  print('d is already present in list')\n",
        "print(li)\n",
        "li.remove('b')\n",
        "print(li)"
      ],
      "metadata": {
        "id": "Dw_4M-vjh5Fa"
      },
      "execution_count": null,
      "outputs": []
    },
    {
      "cell_type": "markdown",
      "source": [
        "5.\n",
        "   - You are tracking daily temperatures for a month. Create a list to store these temperatures. Write functions to find the highest and lowest temperatures, and to calculate the average temperature for the month."
      ],
      "metadata": {
        "id": "1H3oytewjQzi"
      }
    },
    {
      "cell_type": "code",
      "source": [
        "li = [25.6, 22, 32.1]\n",
        "print(max(li))\n",
        "print(min(li))\n",
        "print(float(sum(li)/len(li)))"
      ],
      "metadata": {
        "id": "Js0U1XXljbQT"
      },
      "execution_count": null,
      "outputs": []
    },
    {
      "cell_type": "markdown",
      "source": [
        "6.\n",
        "   - You are responsible for assigning seats to students in a classroom. Create a list to represent the seating arrangement. Write functions to assign a seat to a new student, find a student's seat by name, and swap seats between two students."
      ],
      "metadata": {
        "id": "nBhOLRlykNrB"
      }
    },
    {
      "cell_type": "code",
      "source": [
        "\n",
        "seating_arrangement = [('r', 1), ('j', 2), ('p',3)]\n",
        "\n",
        "seating_arrangement.append(('student_name', 1234))\n",
        "\n",
        "student_name = 'j' #Student whose seat is to be found\n",
        "for student, seat in seating_arrangement:\n",
        "    if student == student_name:\n",
        "        return seat\n",
        "\n",
        "#Swap Seats\n",
        "seat1 = find_seat(student1_name)\n",
        "seat2 = find_seat(student2_name)\n",
        "seating_arrangement.remove((student1_name, seat1))\n",
        "seating_arrangement.remove((student2_name, seat2))\n",
        "seating_arrangement.append((student1_name, seat2))\n",
        "seating_arrangement.append((student2_name, seat1))\n",
        "\n",
        "print(seating_arrangement)\n"
      ],
      "metadata": {
        "id": "3_Kiq_XRkTIx"
      },
      "execution_count": null,
      "outputs": []
    },
    {
      "cell_type": "markdown",
      "source": [
        "7.\n",
        "   - You are organizing an event and need to manage the guest list. Create a list to store the names of the guests. Write functions to add a guest, remove a guest by name, and check if a person is on the guest list."
      ],
      "metadata": {
        "id": "5aI-YpKVkZUz"
      }
    },
    {
      "cell_type": "code",
      "source": [
        "li = ['a','b','c']\n",
        "if 'd' not in li:\n",
        "  li.append('d')\n",
        "else:\n",
        "  print('d is already present in list')\n",
        "print(li)\n",
        "li.remove('b')\n",
        "print(li)"
      ],
      "metadata": {
        "id": "3K16PG5akc7G"
      },
      "execution_count": null,
      "outputs": []
    },
    {
      "cell_type": "markdown",
      "source": [
        "8.\n",
        "   - Create a playlist for a party. Use a list to store song titles. Write functions to add a song, remove a song by title, and shuffle the playlist. Ensure no duplicate songs are added to the playlist."
      ],
      "metadata": {
        "id": "DhvKAjlEkr23"
      }
    },
    {
      "cell_type": "code",
      "source": [
        "li = ['a','b','c']\n",
        "if 'd' not in li:\n",
        "  li.append('d')\n",
        "else:\n",
        "  print('d is already present in list')\n",
        "print(li)\n",
        "li.remove('b')\n",
        "print(li)\n",
        "\n",
        "#shuffle the playlist\n",
        "import random\n",
        "random.shuffle(li)\n",
        "print(li)"
      ],
      "metadata": {
        "id": "z0B2I0gmktH1"
      },
      "execution_count": null,
      "outputs": []
    },
    {
      "cell_type": "markdown",
      "source": [
        "9.\n",
        "   - You are managing course enrollments for a university. Create a list of students enrolled in a course. Write functions to add a student, remove a student by name, and find the total number of students enrolled.\n"
      ],
      "metadata": {
        "id": "xhGt-YpukwGM"
      }
    },
    {
      "cell_type": "code",
      "source": [
        "li = ['a','b','c']\n",
        "#add a Student\n",
        "li.append('d')\n",
        "print(li)\n",
        "#remove a student by name\n",
        "li.remove('b')\n",
        "print(li)\n",
        "#find the total number of students enrolled\n",
        "print(len(li))"
      ],
      "metadata": {
        "id": "tZQzLLG5kwjK"
      },
      "execution_count": null,
      "outputs": []
    },
    {
      "cell_type": "markdown",
      "source": [
        "10.\n",
        "    - You are creating a recipe management system. Create a list of ingredients required for a recipe. Write functions to add an ingredient, remove an ingredient by name, and check if a specific ingredient is in the list. Sort the list of ingredients alphabetically.\n"
      ],
      "metadata": {
        "id": "i9qyB9uokzAr"
      }
    },
    {
      "cell_type": "code",
      "source": [
        "li = ['a','b','c']\n",
        "#add an ingredient to list\n",
        "li.append('d')\n",
        "print(li)\n",
        "#remove an ingredient by name\n",
        "li.remove('b')\n",
        "print(li)\n",
        "#check if a specific ingredient is in the list\n",
        "if 'd' in li:\n",
        "  print('d is present in list')\n",
        "else:\n",
        "  print('d is not present in list')\n",
        "#sort the list of ingredients alphabetically\n",
        "li.sort()\n",
        "print(li)\n"
      ],
      "metadata": {
        "id": "WF0I3mU8k1pb"
      },
      "execution_count": null,
      "outputs": []
    },
    {
      "cell_type": "markdown",
      "source": [
        "11.\n",
        "    - You are analyzing responses from a survey. Create a list of responses. Write functions to add a response, remove a response by its index, and calculate the frequency of each unique response."
      ],
      "metadata": {
        "id": "gQlg9azhk4XO"
      }
    },
    {
      "cell_type": "code",
      "source": [
        "li = ['a','b','c']\n",
        "#add a response\n",
        "li.append('d')\n",
        "print(li)\n",
        "#remove a response by its index\n",
        "li.pop(1)\n",
        "print(li)\n",
        "#calculate the frequency of each unique response\n",
        "print(li.count('a'))\n",
        "print(li.count('b'))\n",
        "print(li.count('c'))\n",
        "print(li.count('d'))"
      ],
      "metadata": {
        "id": "I9qZ3S0Gk5Jq"
      },
      "execution_count": null,
      "outputs": []
    },
    {
      "cell_type": "markdown",
      "source": [
        "12.\n",
        "    - Implement a flight booking system. Create a list to store the names of passengers on a flight. Write functions to add a passenger, remove a passenger by name, and find the seat number of a passenger (assuming the index represents the seat number)."
      ],
      "metadata": {
        "id": "pzPJNNc0k5fZ"
      }
    },
    {
      "cell_type": "code",
      "source": [
        "li = ['a','b','c']\n",
        "#add a passenger\n",
        "li.append('d')\n",
        "print(li)\n",
        "#remove a passenger by name\n",
        "li.remove('b')\n",
        "print(li)\n",
        "#find the seat number of a passenger (assuming the index represents the seat number)\n",
        "print('seat number of passenger d is ', li.index('d'))"
      ],
      "metadata": {
        "colab": {
          "base_uri": "https://localhost:8080/"
        },
        "id": "-FhAX2oFk-b5",
        "outputId": "fab21947-c2b2-47b4-96e0-d6e820579418"
      },
      "execution_count": null,
      "outputs": [
        {
          "output_type": "stream",
          "name": "stdout",
          "text": [
            "['a', 'b', 'c', 'd']\n",
            "['a', 'c', 'd']\n",
            "seat number of passenger d is  2\n"
          ]
        }
      ]
    },
    {
      "cell_type": "markdown",
      "source": [
        "13.\n",
        "    - Develop an online shopping cart system. Create a list to store the items in the cart. Write functions to add an item, remove an item by name, and calculate the total price of all items in the cart."
      ],
      "metadata": {
        "id": "Q4jNMdsglBMQ"
      }
    },
    {
      "cell_type": "code",
      "source": [
        "li = [('a', 50), ('b', 100), ('c', 500)]\n",
        "#add an item\n",
        "li.append(('d', 1000))\n",
        "print(li)\n",
        "#remove an item by name\n",
        "li.remove(('b', 100))\n",
        "print(li)\n",
        "#calculate the total price of all items in the cart\n",
        "total = 0\n",
        "for item, price in li:\n",
        "    total += price\n",
        "print(total)"
      ],
      "metadata": {
        "id": "03Rw_Fk5lB-y"
      },
      "execution_count": null,
      "outputs": []
    },
    {
      "cell_type": "markdown",
      "source": [
        "14.\n",
        "    - You are managing a library system. Create a list of books currently borrowed by patrons. Write functions to add a borrowed book, return a book (remove it from the list), and check if a specific book is currently borrowed."
      ],
      "metadata": {
        "id": "KdxB2JYtlCsc"
      }
    },
    {
      "cell_type": "code",
      "source": [
        "li = ['a','b','c']\n",
        "#borrow a book\n",
        "li.append('d')\n",
        "print(li)\n",
        "#return a book (remove it from the list)\n",
        "li.remove('b')\n",
        "print(li)\n",
        "#check if a specific book is currently borrowed\n",
        "if 'd' in li:\n",
        "  print('d is present in borrowed list')\n",
        "else:\n",
        "  print('d is not present in borrowed list')"
      ],
      "metadata": {
        "id": "0llGq0ValGs_"
      },
      "execution_count": null,
      "outputs": []
    },
    {
      "cell_type": "markdown",
      "source": [
        "15.\n",
        "    - Create a weekly meal planner. Use a list to store meals for each day of the week. Write functions to add a meal for a specific day, remove a meal by day, and display the meal plan for the entire week."
      ],
      "metadata": {
        "id": "Y3avtBmrlHEm"
      }
    },
    {
      "cell_type": "code",
      "source": [
        "li=[['a','b'],['c','d'],['e','f'],['g','h'],['i','j'],['k','l'],['m','n']]\n",
        "# add a meal for a specific day like day 5 i=4\n",
        "li[4].append('o')\n",
        "print(li)\n",
        "#remove a meal by day like day 5 i=4\n",
        "li[4].remove('j')\n",
        "print(li)\n",
        "#display the meal plan for the entire week\n",
        "print(li[0])\n",
        "print(li[1])\n",
        "print(li[2])\n",
        "print(li[3])\n",
        "print(li[4])\n",
        "print(li[5])\n",
        "print(li[6])\n"
      ],
      "metadata": {
        "id": "IT-7OlFYlKNy"
      },
      "execution_count": null,
      "outputs": []
    },
    {
      "cell_type": "markdown",
      "source": [
        "3.\n",
        "   - You have a list of students, where each student is represented as a tuple containing their name, age, and grade. Write a function to add a new student, another function to remove a student by name, and a function to find the student with the highest grade.\n"
      ],
      "metadata": {
        "id": "_mxQXHp_3WOo"
      }
    },
    {
      "cell_type": "code",
      "source": [
        "l1 = [('a',10,'A'), ('b',11,'B'), ('c',12,'C')]\n",
        "l1.append(('d',13,'D'))\n",
        "print(l1)\n",
        "for name, age, grade in l1:\n",
        "  if name == 'b':\n",
        "    l1.remove(('b',11,'B'))\n",
        "print(l1)\n",
        "#find student with highest grade\n",
        "l1.sort(key=lambda x: x[2])\n",
        "print(l1[-1])\n",
        "\n",
        "l2 = sorted(l1)\n",
        "print(l2[-1])\n"
      ],
      "metadata": {
        "colab": {
          "base_uri": "https://localhost:8080/"
        },
        "id": "0y7dCSP33boS",
        "outputId": "95b5b282-cbd1-4f25-e759-0dd8a65d244e"
      },
      "execution_count": null,
      "outputs": [
        {
          "output_type": "stream",
          "name": "stdout",
          "text": [
            "[('a', 10, 'A'), ('b', 11, 'B'), ('c', 12, 'C'), ('d', 13, 'D')]\n",
            "[('a', 10, 'A'), ('c', 12, 'C'), ('d', 13, 'D')]\n",
            "('d', 13, 'D')\n",
            "('d', 13, 'D')\n"
          ]
        }
      ]
    },
    {
      "cell_type": "markdown",
      "source": [
        "4. on system for a software application where configurations are stored as tuples. Each configuration contains a setting name and its value. Write a function to add a new configuration, check if a specific setting exists, and retrieve the value of a specific setting.\n"
      ],
      "metadata": {
        "id": "M11NktFd4itC"
      }
    },
    {
      "cell_type": "code",
      "source": [
        "con = [('a', 10), ('b', 20), ('c', 30)]\n",
        "con.append(('d', 50))\n",
        "for setting, value in con:\n",
        "    if 'b' == setting:\n",
        "        print(value)\n"
      ],
      "metadata": {
        "id": "J5XoCI9Y4mNo"
      },
      "execution_count": null,
      "outputs": []
    },
    {
      "cell_type": "markdown",
      "source": [
        "5.\n",
        "   - Manage an inventory system where each product is represented as a tuple containing the product name, price, and quantity. Create a list of these product tuples. Write functions to add a new product, update the price of an existing product, and find the total inventory value."
      ],
      "metadata": {
        "id": "1NtHvlPw5ASD"
      }
    },
    {
      "cell_type": "code",
      "source": [
        "pro = [('a', 10, 10), ('b', 20, 20), ('c', 30, 30)]\n",
        "pro.append(('d', 50, 50))\n",
        "print(pro)\n",
        "pro[0][1] = 20 #update price of an existing product\n",
        "print(pro)\n",
        "total = 0\n",
        "for name, price, quantity in pro:\n",
        "    total += price * quantity\n",
        "print(total)\n"
      ],
      "metadata": {
        "id": "ytQiMRtl5Ei0"
      },
      "execution_count": null,
      "outputs": []
    },
    {
      "cell_type": "markdown",
      "source": [
        "6.\n",
        "   - Develop a contact list application where each contact is stored as a tuple containing their name, phone number, and email address. Write functions to add a new contact, search for a contact by name, and update the phone number of a specific contact."
      ],
      "metadata": {
        "id": "4E-4Git25r3f"
      }
    },
    {
      "cell_type": "code",
      "source": [
        "contacts = [('a', 10, 'a@gmail.com'), ('b', 20, 'b@gmail.com'), ('c', 30, 'c@gmail.com')]\n",
        "contacts.append(('d', 50, 'd@gmail.com'))\n",
        "for name, phone, email in contacts:\n",
        "    if 'b' == name:\n",
        "        print(phone)\n",
        "        phone = 1234554321 #Update Phone No. of a specific contact\n",
        "print(contacts)\n"
      ],
      "metadata": {
        "id": "bRFTM0qw5wWa"
      },
      "execution_count": null,
      "outputs": []
    },
    {
      "cell_type": "markdown",
      "source": [
        "7.\n",
        "   - You are managing course schedules for a university. Each course is represented as a tuple containing the course name, instructor, and meeting time. Create a list of these course tuples. Write functions to add a new course, find all courses taught by a specific instructor, and update the meeting time of a specific course."
      ],
      "metadata": {
        "id": "xcvBrKgk6Ii_"
      }
    },
    {
      "cell_type": "code",
      "source": [
        "course = [('a', 'b', 'c'), ('d', 'e', 'f'), ('g', 'h', 'i')]\n",
        "course.append(('j', 'k', 'l'))\n",
        "for name, instructor, meeting in course:\n",
        "    if 'b' == instructor:\n",
        "        print(meeting)\n",
        "        meeting = 'm' #Update Meeting Time of a specific course\n",
        "print(course)"
      ],
      "metadata": {
        "id": "BmYQsQKt6L0Q"
      },
      "execution_count": null,
      "outputs": []
    },
    {
      "cell_type": "markdown",
      "source": [
        "\n",
        "8.\n",
        "   - Represent points in 3D space as tuples containing x, y, and z coordinates. Create a list of these point tuples. Write functions to add a new point, calculate the distance between two points, and find the point closest to the origin."
      ],
      "metadata": {
        "id": "C44r3hLi6aWz"
      }
    },
    {
      "cell_type": "code",
      "source": [
        "li = [(1,2,3), (4,5,6), (7,8,9)]\n",
        "li.append((10,11,12))\n",
        "print(li)\n",
        "dist = (li[0][0]-li[1][0], li[0][1]-li[1][1], li[0][2]-li[1][2])\n",
        "print(dist)\n",
        "#find the point closest to the origin\n",
        "min_distance = float('inf')\n",
        "min_point = None\n",
        "for point in li:\n",
        "    distance = (point[0]**2 + point[1]**2 + point[2]**2)**0.5\n",
        "    if(distance<min_distance):\n",
        "        min_distance = distance\n",
        "        min_point = point\n",
        "print(min_point)\n",
        "print(min_distance)\n"
      ],
      "metadata": {
        "id": "ExGUpfxN6c73"
      },
      "execution_count": null,
      "outputs": []
    },
    {
      "cell_type": "markdown",
      "source": [
        "9.\n",
        "   - Track stock prices where each stock is represented as a tuple containing the stock symbol, the price, and the date of the price. Write functions to add a new stock price, find the latest price for a specific stock, and calculate the average price of a specific stock over a given period."
      ],
      "metadata": {
        "id": "NIlLSzPq7FNv"
      }
    },
    {
      "cell_type": "code",
      "source": [
        "stocks = [('a', 10, '2023-01-01'), ('b', 20, '2023-01-02'), ('c', 30, '2023-01-03')]\n",
        "stocks.append(('d', 50, '2023-01-04'))\n",
        "print(stocks)\n",
        "latest_price = 0\n",
        "stocks.sort(key=lambda x:x[2])\n",
        "print(stocks)\n",
        "for symbol, price, date in stocks:\n",
        "    if 'b' == symbol:\n",
        "        latest_price = price\n",
        "print(latest_price)\n",
        "#calculate the average price of a specific stock over a given period\n",
        "sum = 0\n",
        "count = 0\n",
        "for symbol, price, date in stocks:\n",
        "    if 'b' == symbol:\n",
        "        sum += price\n",
        "        count += 1\n",
        "print(sum/count)\n"
      ],
      "metadata": {
        "id": "9JUy0Rbs7KaB"
      },
      "execution_count": null,
      "outputs": []
    },
    {
      "cell_type": "markdown",
      "source": [
        "10.\n",
        "    - Manage a library system where each borrowed book is represented as a tuple containing the book title, borrower's name, and due date. Create a list of these book tuples. Write functions to add a borrowed book, check if a specific book is borrowed, and update the due date of a borrowed book.\n"
      ],
      "metadata": {
        "id": "qqk2XJqC70Pz"
      }
    },
    {
      "cell_type": "code",
      "source": [
        "li = [('title', 'name', 'date'), ('title1', 'name1', 'date1'), ('title2', 'name2', 'date2')]\n",
        "li.append(('title3', 'name3', 'date3'))\n",
        "print(li)\n",
        "for title, name, date in li:\n",
        "    if 'title2' == title:\n",
        "        print(date)\n",
        "        date = 'date4' #Update Due Date of a borrowed book\n",
        "print(li)\n"
      ],
      "metadata": {
        "id": "GykXlywb73Cw"
      },
      "execution_count": null,
      "outputs": []
    },
    {
      "cell_type": "markdown",
      "source": [
        "11.\n",
        "    - Create a restaurant menu where each item is represented as a tuple containing the item name, description, and price. Write functions to add a new menu item, update the description of an existing item, and find all items below a certain price.\n"
      ],
      "metadata": {
        "id": "1sOW1V0u8Hrj"
      }
    },
    {
      "cell_type": "code",
      "source": [
        "li = [('a', 'b', 10), ('c', 'd', 20), ('e', 'f', 30)]\n",
        "li.append(('g', 'h', 40))\n",
        "print(li)\n",
        "for name, description, price in li:\n",
        "    if 'b' == name:\n",
        "        description = 'i' #Update Description of an existing item\n",
        "print(li)\n",
        "for name, description, price in li:\n",
        "    if price < 25:\n",
        "        print(name)\n"
      ],
      "metadata": {
        "id": "W90tma888L83"
      },
      "execution_count": null,
      "outputs": []
    },
    {
      "cell_type": "markdown",
      "source": [
        "12.\n",
        "    - Develop an immutable shopping cart system where each cart item is represented as a tuple containing the item name, quantity, and price. Write functions to add a new item to the cart, update the quantity of an existing item, and calculate the total cost of the cart."
      ],
      "metadata": {
        "id": "nCIOgv048ahD"
      }
    },
    {
      "cell_type": "code",
      "source": [
        "li = [('a', 1, 2), ('c', 3, 4), ('e', 5, 6)]\n",
        "li.append(('h', 7, 8))\n",
        "print(li)\n",
        "for name, quantity, price in li:\n",
        "    if 'c' == name:\n",
        "        quantity = 10 #Update Quantity of an existing item\n",
        "print(li)\n",
        "total = 0\n",
        "for name, quantity, price in li:\n",
        "    total += quantity * price\n",
        "print(total)\n"
      ],
      "metadata": {
        "id": "zl8z8vpR8dPi"
      },
      "execution_count": null,
      "outputs": []
    },
    {
      "cell_type": "markdown",
      "source": [
        "\n",
        "13.\n",
        "    - Manage flight information where each flight is represented as a tuple containing the flight number, destination, and departure time. Write functions to add a new flight, update the departure time of a flight, and find all flights to a specific destination."
      ],
      "metadata": {
        "id": "7pXZ3m3s801R"
      }
    },
    {
      "cell_type": "code",
      "source": [
        "info = [(123, 'a', '10:00'), (456, 'b', '11:00'), (789, 'c', '12:00')]\n",
        "info.append((101, 'd', '13:00'))\n",
        "for num, dest, time in info:\n",
        "    if 123 == num:\n",
        "        time = '14:00' #Update Departure Time of a flight\n",
        "print(info)\n",
        "for num, dest, time in info:\n",
        "    if 'b' == dest:\n",
        "        print(time) #Print all flights to a specific destination"
      ],
      "metadata": {
        "id": "fYI0ro1-83mV"
      },
      "execution_count": null,
      "outputs": []
    },
    {
      "cell_type": "markdown",
      "source": [
        "14.\n",
        "    - Track scores in a tournament where each score entry is represented as a tuple containing the player's name, game, and score. Write functions to add a new score entry, find the highest score for a specific game, and calculate the average score for a specific player."
      ],
      "metadata": {
        "id": "4MH8h3g_9UhQ"
      }
    },
    {
      "cell_type": "code",
      "source": [
        "li = [('a', 'b', 10), ('c', 'd', 20), ('e', 'f', 30)]\n",
        "li.append(('g', 'h', 40))\n",
        "print(li)\n",
        "highest_score = 0\n",
        "for name, game, score in li:\n",
        "    if 'b' == game:\n",
        "        if(highest_score<score):\n",
        "            highest_score = score\n",
        "print(highest_score)\n",
        "\n",
        "total = 0\n",
        "count = 0\n",
        "for name, game, score in li:\n",
        "    if 'b' == name:\n",
        "        total += score\n",
        "        count += 1\n",
        "print('Average score of player b is: ', total/count)"
      ],
      "metadata": {
        "id": "jbNujHkT9X6A"
      },
      "execution_count": null,
      "outputs": []
    },
    {
      "cell_type": "markdown",
      "source": [
        "15.\n",
        "    - Manage bank transactions where each transaction is represented as a tuple containing the transaction ID, amount, and date. Write functions to add a new transaction, find a transaction by ID, and calculate the total amount of transactions for a specific date.\n"
      ],
      "metadata": {
        "id": "mDhLDtHi9_jJ"
      }
    },
    {
      "cell_type": "code",
      "source": [
        "li = [(1, 10, '2023-01-01'), (2, 20, '2023-01-02'), (3, 30, '2023-01-03')]\n",
        "li.append((4, 40, '2023-01-04'))\n",
        "print(li)\n",
        "for id, amount, date in li:\n",
        "    if 2 == id:\n",
        "        print((id, amount, date))\n",
        "total = 0\n",
        "for id, amount, date in li:\n",
        "    if '2023-01-02' == date:\n",
        "        total += amount\n",
        "print(\"Total amount of transactions for the date 2023-01-02 is\", total)"
      ],
      "metadata": {
        "colab": {
          "base_uri": "https://localhost:8080/"
        },
        "id": "36hjEgSP-Cak",
        "outputId": "9f6d86f7-6a8f-419b-933a-c0339b858546"
      },
      "execution_count": null,
      "outputs": [
        {
          "output_type": "stream",
          "name": "stdout",
          "text": [
            "[(1, 10, '2023-01-01'), (2, 20, '2023-01-02'), (3, 30, '2023-01-03'), (4, 40, '2023-01-04')]\n",
            "(2, 20, '2023-01-02')\n",
            "Total amount of transactions for the date 2023-01-02 is 20\n"
          ]
        }
      ]
    }
  ]
}
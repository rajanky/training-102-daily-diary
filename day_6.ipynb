{
  "nbformat": 4,
  "nbformat_minor": 0,
  "metadata": {
    "colab": {
      "provenance": [],
      "include_colab_link": true
    },
    "kernelspec": {
      "name": "python3",
      "display_name": "Python 3"
    },
    "language_info": {
      "name": "python"
    }
  },
  "cells": [
    {
      "cell_type": "markdown",
      "metadata": {
        "id": "view-in-github",
        "colab_type": "text"
      },
      "source": [
        "<a href=\"https://colab.research.google.com/github/rajanky/training-102-daily-diary/blob/main/day_6.ipynb\" target=\"_parent\"><img src=\"https://colab.research.google.com/assets/colab-badge.svg\" alt=\"Open In Colab\"/></a>"
      ]
    },
    {
      "cell_type": "markdown",
      "source": [],
      "metadata": {
        "id": "-8s847BVkUn6"
      }
    },
    {
      "cell_type": "markdown",
      "source": [
        ".Write a Python function that takes a string as input and returns the reverse of the string."
      ],
      "metadata": {
        "id": "pkswPv5Su9ck"
      }
    },
    {
      "cell_type": "code",
      "execution_count": null,
      "metadata": {
        "colab": {
          "base_uri": "https://localhost:8080/"
        },
        "id": "Qr7aPECOkDKI",
        "outputId": "14382f2a-c125-4a5a-87af-87fb51015942"
      },
      "outputs": [
        {
          "output_type": "stream",
          "name": "stdout",
          "text": [
            "enter a name\n",
            "jskf\n",
            "fksj\n"
          ]
        }
      ],
      "source": [
        "string=input(\"enter a name\\n\")\n",
        "def reverse_string(string):\n",
        "  t=string\n",
        "  if len(t)>=0:\n",
        "   return(t[::-1])\n",
        "print(reverse_string(string))"
      ]
    },
    {
      "cell_type": "code",
      "source": [],
      "metadata": {
        "id": "y1MyMTwBxPSi"
      },
      "execution_count": null,
      "outputs": []
    },
    {
      "cell_type": "markdown",
      "source": [
        "2.Create a list of numbers. Write a function that finds and returns the maximum value in the list without using the built-in max() function."
      ],
      "metadata": {
        "id": "7TaUv4FkyBlw"
      }
    },
    {
      "cell_type": "code",
      "source": [
        "list1=[3,77,2,8,99,4,100]\n",
        "def max(list1):\n",
        "  item=0\n",
        "  for i in list1:\n",
        "    if item<i:\n",
        "      item=i\n",
        "  print(item)\n",
        "max(list1)"
      ],
      "metadata": {
        "colab": {
          "base_uri": "https://localhost:8080/"
        },
        "id": "SFniULcLyecQ",
        "outputId": "bd2eea86-4106-4682-c955-2376985d5806"
      },
      "execution_count": null,
      "outputs": [
        {
          "output_type": "stream",
          "name": "stdout",
          "text": [
            "100\n"
          ]
        }
      ]
    },
    {
      "cell_type": "code",
      "source": [],
      "metadata": {
        "id": "g5AYDacxzfS9"
      },
      "execution_count": null,
      "outputs": []
    },
    {
      "cell_type": "markdown",
      "source": [
        "3.Define a function that accepts a list of integers and returns a new list containing only the even numbers from the original list."
      ],
      "metadata": {
        "id": "EoczvrtT1Jqn"
      }
    },
    {
      "cell_type": "code",
      "source": [
        "lis1=[2,3,4,5,6,7,8,9]\n",
        "def only_even(lis1):\n",
        "  t=[x for x in lis1 if x%2==0]\n",
        "  return t\n",
        "print(only_even(lis1))"
      ],
      "metadata": {
        "colab": {
          "base_uri": "https://localhost:8080/"
        },
        "id": "Y9gdSUdS1R3X",
        "outputId": "8ac23612-2e13-434b-d099-46dbbdabf8e1"
      },
      "execution_count": null,
      "outputs": [
        {
          "output_type": "stream",
          "name": "stdout",
          "text": [
            "[2, 4, 6, 8]\n"
          ]
        }
      ]
    },
    {
      "cell_type": "markdown",
      "source": [
        ".Implement a Python function to check if a given word is a palindrome (reads the same backward as forward)."
      ],
      "metadata": {
        "id": "XPoI6toy8Wc_"
      }
    },
    {
      "cell_type": "markdown",
      "source": [
        "string=\""
      ],
      "metadata": {
        "id": "7O2NlFxR8eNV"
      }
    },
    {
      "cell_type": "code",
      "source": [
        "from os import RTLD_NODELETE\n",
        "string=input(\"enter a string\\n\")\n",
        "def ChecK_palindorme(string):\n",
        "  t=string\n",
        "  j=t[::-1]\n",
        "\n",
        "  if j==t:\n",
        "    print(\"its a palindome\\n\")\n",
        "  else:\n",
        "    print(\"its not a palindrome\\n\")\n",
        "  return \" \"\n",
        "\n",
        "print(ChecK_palindorme(string))"
      ],
      "metadata": {
        "colab": {
          "base_uri": "https://localhost:8080/"
        },
        "id": "N6Ox3DpY8h07",
        "outputId": "8ea58a9f-0883-4243-add6-2aa7389f74b2"
      },
      "execution_count": null,
      "outputs": [
        {
          "output_type": "stream",
          "name": "stdout",
          "text": [
            "enter a string\n",
            "nitin\n",
            "its a palindome\n",
            "\n",
            " \n"
          ]
        }
      ]
    },
    {
      "cell_type": "markdown",
      "source": [
        "reate a dictionary with student names as keys and their corresponding ages as values. Write a function to find and print the names of students who are above a certain age"
      ],
      "metadata": {
        "id": "WBWXKDMz-Xil"
      }
    },
    {
      "cell_type": "code",
      "source": [
        "student={'komal':19,'nitn':20,'navi':17,'jashan':16,'rahul':21}\n",
        "def age(student):\n",
        "  g={key:values for key,values in student.items() if values>18}\n",
        "  return g.keys()\n",
        "print(age(student))\n"
      ],
      "metadata": {
        "colab": {
          "base_uri": "https://localhost:8080/"
        },
        "id": "-9SnSss1-iUY",
        "outputId": "bdad4b16-2079-4207-f6e5-19c174d757f9"
      },
      "execution_count": null,
      "outputs": [
        {
          "output_type": "stream",
          "name": "stdout",
          "text": [
            "dict_keys(['komal', 'nitn', 'rahul'])\n"
          ]
        }
      ]
    },
    {
      "cell_type": "markdown",
      "source": [
        ".Develop a Python function that calculates the sum of squares for a given range of numbers."
      ],
      "metadata": {
        "id": "bwtcIpghacWF"
      }
    },
    {
      "cell_type": "code",
      "source": [],
      "metadata": {
        "id": "YBDkAKpYam0X"
      },
      "execution_count": null,
      "outputs": []
    }
  ]
}
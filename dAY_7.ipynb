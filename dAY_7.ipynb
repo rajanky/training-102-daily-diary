{
  "nbformat": 4,
  "nbformat_minor": 0,
  "metadata": {
    "colab": {
      "provenance": [],
      "include_colab_link": true
    },
    "kernelspec": {
      "name": "python3",
      "display_name": "Python 3"
    },
    "language_info": {
      "name": "python"
    }
  },
  "cells": [
    {
      "cell_type": "markdown",
      "metadata": {
        "id": "view-in-github",
        "colab_type": "text"
      },
      "source": [
        "<a href=\"https://colab.research.google.com/github/rajanky/training-102-daily-diary/blob/main/dAY_7.ipynb\" target=\"_parent\"><img src=\"https://colab.research.google.com/assets/colab-badge.svg\" alt=\"Open In Colab\"/></a>"
      ]
    },
    {
      "cell_type": "markdown",
      "source": [
        "Define a simple Car class with attributes for make, model, and year. Create an object of this class and print its attributes.\n",
        "\n",
        "\n"
      ],
      "metadata": {
        "id": "RS7mlEyHvnTX"
      }
    },
    {
      "cell_type": "code",
      "execution_count": null,
      "metadata": {
        "colab": {
          "base_uri": "https://localhost:8080/"
        },
        "id": "5Zh5Z867vipO",
        "outputId": "95cae658-c8c8-46ec-de72-3b583da0d85f"
      },
      "outputs": [
        {
          "output_type": "stream",
          "name": "stdout",
          "text": [
            "swift\n",
            "zdi+\n",
            "2020\n"
          ]
        }
      ],
      "source": [
        "class Car:\n",
        "  def __init__(self,make,model,year):\n",
        "   self.r=make\n",
        "   self.model=model\n",
        "   self.year=year\n",
        "\n",
        "obj1=Car(\"swift\",\"zdi+\",2020)\n",
        "print(obj1.r)\n",
        "print(obj1.model)\n",
        "print(obj1.year)\n"
      ]
    },
    {
      "cell_type": "markdown",
      "source": [
        "Create a Person class with attributes for name and age. Add a method to print a greeting message. Create an object and call the method."
      ],
      "metadata": {
        "id": "BvWivOeU79v2"
      }
    },
    {
      "cell_type": "code",
      "source": [
        "class Person:\n",
        "    def __init__(self, name, age):\n",
        "        self.name = name\n",
        "        self.age = age\n",
        "\n",
        "    def greeting_function(self):\n",
        "        print(\"Hey, you are welcome!\")\n",
        "\n",
        "# Create an object of the Person class\n",
        "obj = Person(\"Nitin\", 85)\n",
        "\n",
        "# Call the greeting function\n",
        "obj.greeting_function()\n",
        "\n",
        "# Print the name attribute of the object\n",
        "print(obj.name)\n"
      ],
      "metadata": {
        "colab": {
          "base_uri": "https://localhost:8080/"
        },
        "id": "bOj_XTrJ8D0k",
        "outputId": "b37d3c5e-c5d6-40af-9734-8db7a1e9028f"
      },
      "execution_count": null,
      "outputs": [
        {
          "output_type": "stream",
          "name": "stdout",
          "text": [
            "Hey, you are welcome!\n",
            "Nitin\n"
          ]
        }
      ]
    },
    {
      "cell_type": "markdown",
      "source": [
        " Define a Rectangle class with attributes for length and width. Add a method to calculate the area of the rectangle. Create an object and print the area.\n"
      ],
      "metadata": {
        "id": "9utkyk4L-bbe"
      }
    },
    {
      "cell_type": "code",
      "source": [
        "class Rectangle:\n",
        "  def __init__(self,lenght,width):\n",
        "    self.lenght=lenght\n",
        "    self.width=width\n",
        "  def printing(self):\n",
        "    print(\"Area=\",self.lenght*self.width)\n",
        "\n",
        "obj=Rectangle(6,8)\n",
        "obj.printing()"
      ],
      "metadata": {
        "colab": {
          "base_uri": "https://localhost:8080/"
        },
        "id": "fNLHC_Sw-gTy",
        "outputId": "731b999b-4963-46f9-d63b-f44e29e916e9"
      },
      "execution_count": null,
      "outputs": [
        {
          "output_type": "stream",
          "name": "stdout",
          "text": [
            "Area= 48\n"
          ]
        }
      ]
    },
    {
      "cell_type": "markdown",
      "source": [
        ". Create a Student class with attributes for name and grades (a list of numbers). Add a method to calculate the average grade. Create an object and print the average grade.\n"
      ],
      "metadata": {
        "id": "kdf4CrXToVjj"
      }
    },
    {
      "cell_type": "code",
      "source": [
        "class student:\n",
        "\n",
        "  def __init__(self,name,grade):\n",
        "    self.name=name\n",
        "    self.grade=grade\n",
        "  def average(self):\n",
        "\n",
        "    print(sum(self.grade)/len(self.grade))\n",
        "\n",
        "obj=student(\"nitin\",grade=[5,4])\n",
        "obj.average()"
      ],
      "metadata": {
        "colab": {
          "base_uri": "https://localhost:8080/"
        },
        "id": "wZaPvmxsbBrg",
        "outputId": "4d732502-5c19-4e42-a033-b7303c0dec9e"
      },
      "execution_count": null,
      "outputs": [
        {
          "output_type": "stream",
          "name": "stdout",
          "text": [
            "4.5\n"
          ]
        }
      ]
    },
    {
      "cell_type": "markdown",
      "source": [
        "Define a Book class with attributes for title, author, and pages. Add a method to display the book's details. Create an object and call the method.\n"
      ],
      "metadata": {
        "id": "QricEI0gdRJm"
      }
    },
    {
      "cell_type": "code",
      "source": [
        "class book:\n",
        "  def __init__(self,title,author,pages):\n",
        "    self.title=title\n",
        "    self.author=author\n",
        "    self.pages=pages\n",
        "  def book_details(self):\n",
        "    print(\"title name=\",self.title)\n",
        "    print(\"author name=\",self.author)\n",
        "    print(\"pages name=\",self.pages)\n",
        "obj=book(\"freedom\",\"raja singh\",298)\n",
        "obj.book_details()"
      ],
      "metadata": {
        "colab": {
          "base_uri": "https://localhost:8080/"
        },
        "id": "x_VaXUk4euNh",
        "outputId": "170443d2-a7ba-46a1-a415-ecc5d360dcb7"
      },
      "execution_count": null,
      "outputs": [
        {
          "output_type": "stream",
          "name": "stdout",
          "text": [
            "title name= freedom\n",
            "author name= raja singh\n",
            "pages name= 298\n"
          ]
        }
      ]
    },
    {
      "cell_type": "markdown",
      "source": [],
      "metadata": {
        "id": "M6iy5yh_-gCE"
      }
    },
    {
      "cell_type": "markdown",
      "source": [
        ". Define a BankAccount class with attributes for account number and balance. Add methods to deposit and withdraw money. Create an object and test the methods.\n",
        "\n",
        "\n"
      ],
      "metadata": {
        "id": "cu6q2Ai2f90q"
      }
    },
    {
      "cell_type": "code",
      "source": [
        "class bankaccount:\n",
        "  def __init__(self,acc_no,bal):\n",
        "    self.acc_no=acc_no\n",
        "    self.bal=bal\n",
        "  def deposit(self,amount):\n",
        "    self.bal+=amount\n",
        "  def widhdraw(self,amount):\n",
        "    if self.bal<amount:\n",
        "      print(\"no sufficient amount\")\n",
        "    else:\n",
        "      self.bal-=amount\n",
        "  def balance(self):\n",
        "    print(\"total balace=\",self.bal)\n",
        "obj=bankaccount(9,50)\n",
        "obj.deposit(20)\n",
        "obj.balance()\n",
        "obj.widhdraw(70)\n",
        "obj.balance()\n",
        "obj.widhdraw(20)\n"
      ],
      "metadata": {
        "colab": {
          "base_uri": "https://localhost:8080/"
        },
        "id": "ADhrPmmwhPLZ",
        "outputId": "d32851e5-5d58-424c-8324-592c268da86b"
      },
      "execution_count": null,
      "outputs": [
        {
          "output_type": "stream",
          "name": "stdout",
          "text": [
            "total balace= 70\n",
            "total balace= 0\n",
            "no sufficient amount\n"
          ]
        }
      ]
    },
    {
      "cell_type": "markdown",
      "source": [],
      "metadata": {
        "id": "qdbs4mPIkTZY"
      }
    },
    {
      "cell_type": "code",
      "source": [
        "import math\n",
        "\n",
        "class Point:\n",
        "    def __init__(self, x, y):\n",
        "        self.x = x\n",
        "        self.y = y\n",
        "\n",
        "    def distance(self, other_point):\n",
        "        print( math.sqrt((self.x - other_point.x) ** 2 + (self.y - other_point.y) ** 2))\n",
        "\n",
        "point1 = Point(0, 0)\n",
        "point2 = Point(3, 4)\n",
        "point1.distance(point2)\n",
        "\n",
        "\n"
      ],
      "metadata": {
        "id": "avP8ZYR6nchP",
        "colab": {
          "base_uri": "https://localhost:8080/"
        },
        "outputId": "3e299436-5d25-4784-970f-66efefff0afa"
      },
      "execution_count": null,
      "outputs": [
        {
          "output_type": "stream",
          "name": "stdout",
          "text": [
            "5.0\n"
          ]
        }
      ]
    },
    {
      "cell_type": "code",
      "source": [
        "class Calendar:\n",
        "    def __init__(self, day, month, year):\n",
        "        self.day = day\n",
        "        self.month = month\n",
        "        self.year = year\n",
        "\n",
        "    def display_date(self):\n",
        "        print(f\"{self.day}/{self.month}/{self.year}\")\n",
        "\n",
        "calendar = Calendar(12, 6, 2024)\n",
        "calendar.display_date()\n"
      ],
      "metadata": {
        "colab": {
          "base_uri": "https://localhost:8080/"
        },
        "id": "rYFcf7WgrWE-",
        "outputId": "fe17a066-1316-4e08-ba09-545862283180"
      },
      "execution_count": null,
      "outputs": [
        {
          "output_type": "stream",
          "name": "stdout",
          "text": [
            "12/6/2024\n"
          ]
        }
      ]
    },
    {
      "cell_type": "markdown",
      "source": [],
      "metadata": {
        "id": "4YlDzXlk1Qmt"
      }
    },
    {
      "cell_type": "code",
      "source": [
        "class Person:\n",
        "    def __init__(self, name, age):\n",
        "        self.name = name\n",
        "        self.age = age\n",
        "\n",
        "    def greet(self):\n",
        "        print(f\"Hello, my name is {self.name} and I am {self.age} years old.\")\n",
        "\n",
        "    def compare_age(self, other_person):\n",
        "        if self.age > other_person.age:\n",
        "            return f\"{other_person.name} is younger than me.\"\n",
        "        elif self.age < other_person.age:\n",
        "            return f\"{other_person.name} is older than me.\"\n",
        "        else:\n",
        "            return f\"{other_person.name} is the same age as me.\"\n",
        "\n",
        "# Creating objects\n",
        "p1 = Person('Alice', 30)\n",
        "p2 = Person('Bob', 25)\n",
        "p3 = Person('Charlie', 30)\n",
        "\n",
        "# Comparing ages\n",
        "print(p1.compare_age(p2))  # Output: \"Bob is younger than me.\"\n",
        "print(p1.compare_age(p3))  # Output: \"Charlie is the same age as me.\"\n",
        "print(p2.compare_age(p3))  # Output: \"Charlie is older than me.\"\n"
      ],
      "metadata": {
        "colab": {
          "base_uri": "https://localhost:8080/"
        },
        "id": "ePK6jaQK1Wx9",
        "outputId": "1fbe13d8-3bcc-4f78-c07b-a03fbc0b21b4"
      },
      "execution_count": null,
      "outputs": [
        {
          "output_type": "stream",
          "name": "stdout",
          "text": [
            "Bob is younger than me.\n",
            "Charlie is the same age as me.\n",
            "Charlie is older than me.\n"
          ]
        }
      ]
    },
    {
      "cell_type": "markdown",
      "source": [],
      "metadata": {
        "id": "b-iZhlZR1Zch"
      }
    },
    {
      "cell_type": "code",
      "source": [
        "class OnesThreesNines:\n",
        "    def __init__(self, num):\n",
        "        self.num = num\n",
        "        self.nines = self.num // 9\n",
        "        self.threes = self.num // 3\n",
        "        self.ones = self.num\n",
        "\n",
        "# Example usage\n",
        "n1 = OnesThreesNines(5)\n",
        "print(n1.nines)  # Output: 0\n",
        "print(n1.ones)   # Output: 5\n",
        "print(n1.threes) # Output: 1\n",
        "\n",
        "n2 = OnesThreesNines(10)\n",
        "print(n2.nines)  # Output: 1\n",
        "print(n2.ones)   # Output: 10\n",
        "print(n2.threes) # Output: 3\n"
      ],
      "metadata": {
        "colab": {
          "base_uri": "https://localhost:8080/"
        },
        "id": "-Sr3Bxd71a_s",
        "outputId": "5996eb41-d376-4c86-ae8d-b099e422bb9b"
      },
      "execution_count": null,
      "outputs": [
        {
          "output_type": "stream",
          "name": "stdout",
          "text": [
            "0\n",
            "5\n",
            "1\n",
            "1\n",
            "10\n",
            "3\n"
          ]
        }
      ]
    },
    {
      "cell_type": "code",
      "source": [
        "class Calculator:\n",
        "    def add(self, a, b):\n",
        "        return a + b\n",
        "\n",
        "    def subtract(self, a, b):\n",
        "        return a - b\n",
        "\n",
        "    def multiply(self, a, b):\n",
        "        return a * b\n",
        "\n",
        "    def divide(self, a, b):\n",
        "        if b == 0:\n",
        "            return \"Error: Division by zero is not allowed.\"\n",
        "        return a / b\n",
        "\n",
        "# Example usage\n",
        "calc = Calculator()\n",
        "print(calc.add(10, 5))        # Output: 15\n",
        "print(calc.subtract(10, 5))   # Output: 5\n",
        "print(calc.multiply(10, 5))   # Output: 50\n",
        "print(calc.divide(10, 5))     # Output: 2.0\n",
        "print(calc.divide(10, 0))     # Output: Error: Division by zero is not allowed.\n"
      ],
      "metadata": {
        "colab": {
          "base_uri": "https://localhost:8080/"
        },
        "id": "hl0qIEKn1ir4",
        "outputId": "3f0d928d-6968-4f8f-8cfb-9006806a402c"
      },
      "execution_count": null,
      "outputs": [
        {
          "output_type": "stream",
          "name": "stdout",
          "text": [
            "15\n",
            "5\n",
            "50\n",
            "2.0\n",
            "Error: Division by zero is not allowed.\n"
          ]
        }
      ]
    },
    {
      "cell_type": "code",
      "source": [
        "class User:\n",
        "    # Class attribute to keep track of the number of instances\n",
        "    user_count = 0\n",
        "\n",
        "    def __init__(self, name):\n",
        "        self.name = name\n",
        "        User.user_count += 1  # Increment the count whenever a new instance is created\n",
        "\n",
        "# Example usage\n",
        "user1 = User(\"Alice\")\n",
        "user2 = User(\"Bob\")\n",
        "user3 = User(\"Charlie\")\n",
        "\n",
        "# Access the user_count directly through the class name\n",
        "print(User.user_count)  # Output: 3\n"
      ],
      "metadata": {
        "colab": {
          "base_uri": "https://localhost:8080/"
        },
        "id": "F1rbItGB1-ea",
        "outputId": "137d13dc-fb36-4c7c-9cff-caceef654afd"
      },
      "execution_count": null,
      "outputs": [
        {
          "output_type": "stream",
          "name": "stdout",
          "text": [
            "3\n"
          ]
        }
      ]
    },
    {
      "cell_type": "code",
      "source": [
        "class BasicPlan:\n",
        "    can_stream = True\n",
        "    can_download = True\n",
        "    has_SD = True\n",
        "    has_HD = False\n",
        "    has_UHD = False\n",
        "    num_of_devices = 1\n",
        "    price = \"$8.99\"\n",
        "\n",
        "    @classmethod\n",
        "    def display_info(cls):\n",
        "        print(f\"{cls.__name__} Plan:\")\n",
        "        print(f\"Can stream: {cls.can_stream}\")\n",
        "        print(f\"Can download: {cls.can_download}\")\n",
        "        print(f\"Has SD: {cls.has_SD}\")\n",
        "        print(f\"Has HD: {cls.has_HD}\")\n",
        "        print(f\"Has UHD: {cls.has_UHD}\")\n",
        "        print(f\"Number of devices: {cls.num_of_devices}\")\n",
        "        print(f\"Price: {cls.price}\")\n",
        "        print()\n",
        "\n",
        "\n",
        "class StandardPlan(BasicPlan):\n",
        "    has_HD = True\n",
        "    num_of_devices = 2\n",
        "    price = \"$12.99\"\n",
        "\n",
        "\n",
        "class PremiumPlan(StandardPlan):\n",
        "    has_UHD = True\n",
        "    num_of_devices = 4\n",
        "    price = \"$15.99\"\n",
        "\n",
        "\n",
        "# Example usage\n",
        "BasicPlan.display_info()\n",
        "StandardPlan.display_info()\n",
        "PremiumPlan.display_info()\n"
      ],
      "metadata": {
        "colab": {
          "base_uri": "https://localhost:8080/"
        },
        "id": "v33O7_tA2HmR",
        "outputId": "8b08540c-4499-42e4-ce79-6c3ddbd9d492"
      },
      "execution_count": null,
      "outputs": [
        {
          "output_type": "stream",
          "name": "stdout",
          "text": [
            "BasicPlan Plan:\n",
            "Can stream: True\n",
            "Can download: True\n",
            "Has SD: True\n",
            "Has HD: False\n",
            "Has UHD: False\n",
            "Number of devices: 1\n",
            "Price: $8.99\n",
            "\n",
            "StandardPlan Plan:\n",
            "Can stream: True\n",
            "Can download: True\n",
            "Has SD: True\n",
            "Has HD: True\n",
            "Has UHD: False\n",
            "Number of devices: 2\n",
            "Price: $12.99\n",
            "\n",
            "PremiumPlan Plan:\n",
            "Can stream: True\n",
            "Can download: True\n",
            "Has SD: True\n",
            "Has HD: True\n",
            "Has UHD: True\n",
            "Number of devices: 4\n",
            "Price: $15.99\n",
            "\n"
          ]
        }
      ]
    }
  ]
}
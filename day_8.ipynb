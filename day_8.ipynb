{
  "nbformat": 4,
  "nbformat_minor": 0,
  "metadata": {
    "colab": {
      "provenance": [],
      "include_colab_link": true
    },
    "kernelspec": {
      "name": "python3",
      "display_name": "Python 3"
    },
    "language_info": {
      "name": "python"
    }
  },
  "cells": [
    {
      "cell_type": "markdown",
      "metadata": {
        "id": "view-in-github",
        "colab_type": "text"
      },
      "source": [
        "<a href=\"https://colab.research.google.com/github/rajanky/training-102-daily-diary/blob/main/day_8.ipynb\" target=\"_parent\"><img src=\"https://colab.research.google.com/assets/colab-badge.svg\" alt=\"Open In Colab\"/></a>"
      ]
    },
    {
      "cell_type": "code",
      "execution_count": null,
      "metadata": {
        "id": "I4RLtP1yBz-s",
        "colab": {
          "base_uri": "https://localhost:8080/"
        },
        "outputId": "2f2716a6-9ade-40d4-c958-691475a7323a"
      },
      "outputs": [
        {
          "output_type": "stream",
          "name": "stdout",
          "text": [
            "print its not a negative\n"
          ]
        }
      ],
      "source": [
        "class bankaccount:\n",
        "  def __init__(self,account_number,account_holder,balance):\n",
        "    self.__account_number=account_number\n",
        "    self.__account_holder=account_holder\n",
        "    self.__balance=balance\n",
        "  def set_balance(self):\n",
        "    if self.__balance>=0:\n",
        "      print(\"print its not a negative\")\n",
        "    else:\n",
        "      print(\"its a negative\")\n",
        "obj=bankaccount(9,\"nitin\",200)\n",
        "obj.set_balance()\n",
        "\n",
        "\n"
      ]
    },
    {
      "cell_type": "markdown",
      "source": [
        "Practice Question:                                                                                                                                                         Question 1: Library Management System\n",
        "Scenario: You are tasked with developing a library management system where users can borrow and return books.\n",
        "\n",
        "Requirements:\n",
        "\n",
        "Create a Book class that has the following private attributes: title, author, and isbn.\n",
        "Implement methods to get and set the values of these attributes (getters and setters).\n",
        "Create a Library class that has a list of Book objects.\n",
        "Implement methods to add a new book, remove a book by its ISBN, and list all available books.\n",
        "Use encapsulation to ensure that the books can only be manipulated through the Library class.\n",
        "Task:\n",
        "\n",
        "Implement the Book and Library classes with proper encapsulation.\n",
        "Add methods to add, remove, and list books in the library.\n"
      ],
      "metadata": {
        "id": "a2z4IzI_YVYl"
      }
    },
    {
      "cell_type": "code",
      "source": [
        "class book:\n",
        "  def __init__(self,title,author,isbn):\n",
        "    self.__title=title\n",
        "    self.__auhtor=author\n",
        "    self.__isbn=isbn\n",
        "class library:\n"
      ],
      "metadata": {
        "id": "8T-lxKNXbm2D"
      },
      "execution_count": null,
      "outputs": []
    },
    {
      "cell_type": "code",
      "source": [
        "class Employee:\n",
        "    def __init__(self, employee_id, name, position, salary):\n",
        "        self.__employee_id = employee_id\n",
        "        self.__name = name\n",
        "        self.__position = position\n",
        "        self.__salary = salary if salary >= 0 else 0\n",
        "\n",
        "    # Getters\n",
        "    def get_employee_id(self):\n",
        "        return self.__employee_id\n",
        "\n",
        "    def get_name(self):\n",
        "        return self.__name\n",
        "\n",
        "    def get_position(self):\n",
        "        return self.__position\n",
        "\n",
        "    def get_salary(self):\n",
        "        return self.__salary\n",
        "\n",
        "    # Setters\n",
        "    def set_name(self, name):\n",
        "        self.__name = name\n",
        "\n",
        "    def set_position(self, position):\n",
        "        self.__position = position\n",
        "\n",
        "    def set_salary(self, salary):\n",
        "        if salary >= 0:\n",
        "            self.__salary = salary\n",
        "        else:\n",
        "            print(\"Salary cannot be negative.\")\n",
        "\n",
        "    def __str__(self):\n",
        "        return f\"ID: {self.__employee_id}, Name: {self.__name}, Position: {self.__position}, Salary: {self.__salary}\"\n",
        "\n",
        "\n",
        "class Department:\n",
        "    def __init__(self):\n",
        "        self.__employees = []\n",
        "\n",
        "    def add_employee(self, employee):\n",
        "        if not isinstance(employee, Employee):\n",
        "            print(\"Error: Only objects of type Employee can be added.\")\n",
        "            return\n",
        "        self.__employees.append(employee)\n",
        "        print(f\"Employee '{employee.get_name()}' added to the department.\")\n",
        "\n",
        "    def remove_employee(self, employee_id):\n",
        "        for employee in self.__employees:\n",
        "            if employee.get_employee_id() == employee_id:\n",
        "                self.__employees.remove(employee)\n",
        "                print(f\"Employee with ID '{employee_id}' removed from the department.\")\n",
        "                return\n",
        "        print(f\"No employee with ID '{employee_id}' found in the department.\")\n",
        "\n",
        "    def list_employees(self):\n",
        "        if not self.__employees:\n",
        "            print(\"No employees in the department.\")\n",
        "        else:\n",
        "            print(\"Listing all employees in the department:\")\n",
        "            for employee in self.__employees:\n",
        "                print(employee)\n",
        "\n",
        "# Example usage\n",
        "dept = Department()\n",
        "\n",
        "emp1 = Employee(1, \"Alice\", \"Manager\", 60000)\n",
        "emp2 = Employee(2, \"Bob\", \"Developer\", 50000)\n",
        "emp3 = Employee(3, \"Charlie\", \"Designer\", 55000)\n",
        "\n",
        "dept.add_employee(emp1)\n",
        "dept.add_employee(emp2)\n",
        "dept.add_employee(emp3)\n",
        "\n",
        "dept.list_employees()\n",
        "\n",
        "dept.remove_employee(2)\n",
        "dept.list_employees()\n",
        "\n",
        "emp4 = Employee(4, \"David\", \"Tester\", -1000)  # Invalid salary, should be set to 0\n",
        "dept.add_employee(emp4)\n",
        "dept.list_employees()\n"
      ],
      "metadata": {
        "id": "SFZjD4YlEs4K",
        "outputId": "ed2f9052-0b40-4a59-f783-9430fa4dd25e",
        "colab": {
          "base_uri": "https://localhost:8080/"
        }
      },
      "execution_count": null,
      "outputs": [
        {
          "output_type": "stream",
          "name": "stdout",
          "text": [
            "Employee 'Alice' added to the department.\n",
            "Employee 'Bob' added to the department.\n",
            "Employee 'Charlie' added to the department.\n",
            "Listing all employees in the department:\n",
            "ID: 1, Name: Alice, Position: Manager, Salary: 60000\n",
            "ID: 2, Name: Bob, Position: Developer, Salary: 50000\n",
            "ID: 3, Name: Charlie, Position: Designer, Salary: 55000\n",
            "Employee with ID '2' removed from the department.\n",
            "Listing all employees in the department:\n",
            "ID: 1, Name: Alice, Position: Manager, Salary: 60000\n",
            "ID: 3, Name: Charlie, Position: Designer, Salary: 55000\n",
            "Employee 'David' added to the department.\n",
            "Listing all employees in the department:\n",
            "ID: 1, Name: Alice, Position: Manager, Salary: 60000\n",
            "ID: 3, Name: Charlie, Position: Designer, Salary: 55000\n",
            "ID: 4, Name: David, Position: Tester, Salary: 0\n"
          ]
        }
      ]
    }
  ]
}